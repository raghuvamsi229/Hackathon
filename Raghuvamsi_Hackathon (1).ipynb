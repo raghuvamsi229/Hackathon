{
  "nbformat": 4,
  "nbformat_minor": 0,
  "metadata": {
    "colab": {
      "provenance": []
    },
    "kernelspec": {
      "name": "python3",
      "display_name": "Python 3"
    },
    "language_info": {
      "name": "python"
    }
  },
  "cells": [
    {
      "cell_type": "markdown",
      "source": [
        "**IMPORTING  REQUIRED LIBRARIES**"
      ],
      "metadata": {
        "id": "TLCveYs7VLrU"
      }
    },
    {
      "cell_type": "code",
      "execution_count": null,
      "metadata": {
        "id": "KRZ2tXwIUc9c"
      },
      "outputs": [],
      "source": [
        "# Importing the necessary libraries\n",
        "import pandas as pd\n",
        "import numpy as np \n",
        "import seaborn as sns\n",
        "import matplotlib.pyplot as plt\n",
        "import warnings\n",
        "warnings.filterwarnings('ignore')\n",
        "from sklearn.model_selection import GridSearchCV"
      ]
    },
    {
      "cell_type": "markdown",
      "source": [
        "**READING THE TRAIN DATA FILES**"
      ],
      "metadata": {
        "id": "sAuPI8njV8O0"
      }
    },
    {
      "cell_type": "code",
      "source": [
        "# Read the train data files\n",
        "cust_data = pd.read_excel('/content/Customerdata_Train.xlsx')\n",
        "cust_data.head()"
      ],
      "metadata": {
        "colab": {
          "base_uri": "https://localhost:8080/",
          "height": 270
        },
        "id": "OSBArKyeakfr",
        "outputId": "b377b2f2-1d1b-4add-c8d1-5d054d3fe863"
      },
      "execution_count": null,
      "outputs": [
        {
          "output_type": "execute_result",
          "data": {
            "text/plain": [
              "  CustomerID   City DateOfRegistration  OnlineCommunication  AutomaticRefill  \\\n",
              "0     C16368  CITY2         2012-09-28                    0                0   \n",
              "1     C20345  CITY2         2010-12-19                    1                1   \n",
              "2     C17683  CITY2         2010-10-03                    0                0   \n",
              "3     C18647  CITY4         2010-11-27                    0                0   \n",
              "4     C36692  CITY2         2009-12-04                    1                1   \n",
              "\n",
              "   DoorstepDelivery PreferredDeliveryDay  \n",
              "0                 0               Monday  \n",
              "1                 1               Friday  \n",
              "2                 0            Wednesday  \n",
              "3                 0               Monday  \n",
              "4                 0               Friday  "
            ],
            "text/html": [
              "\n",
              "  <div id=\"df-ca42aab6-58c0-4dcc-a76f-05b5b66109c1\">\n",
              "    <div class=\"colab-df-container\">\n",
              "      <div>\n",
              "<style scoped>\n",
              "    .dataframe tbody tr th:only-of-type {\n",
              "        vertical-align: middle;\n",
              "    }\n",
              "\n",
              "    .dataframe tbody tr th {\n",
              "        vertical-align: top;\n",
              "    }\n",
              "\n",
              "    .dataframe thead th {\n",
              "        text-align: right;\n",
              "    }\n",
              "</style>\n",
              "<table border=\"1\" class=\"dataframe\">\n",
              "  <thead>\n",
              "    <tr style=\"text-align: right;\">\n",
              "      <th></th>\n",
              "      <th>CustomerID</th>\n",
              "      <th>City</th>\n",
              "      <th>DateOfRegistration</th>\n",
              "      <th>OnlineCommunication</th>\n",
              "      <th>AutomaticRefill</th>\n",
              "      <th>DoorstepDelivery</th>\n",
              "      <th>PreferredDeliveryDay</th>\n",
              "    </tr>\n",
              "  </thead>\n",
              "  <tbody>\n",
              "    <tr>\n",
              "      <th>0</th>\n",
              "      <td>C16368</td>\n",
              "      <td>CITY2</td>\n",
              "      <td>2012-09-28</td>\n",
              "      <td>0</td>\n",
              "      <td>0</td>\n",
              "      <td>0</td>\n",
              "      <td>Monday</td>\n",
              "    </tr>\n",
              "    <tr>\n",
              "      <th>1</th>\n",
              "      <td>C20345</td>\n",
              "      <td>CITY2</td>\n",
              "      <td>2010-12-19</td>\n",
              "      <td>1</td>\n",
              "      <td>1</td>\n",
              "      <td>1</td>\n",
              "      <td>Friday</td>\n",
              "    </tr>\n",
              "    <tr>\n",
              "      <th>2</th>\n",
              "      <td>C17683</td>\n",
              "      <td>CITY2</td>\n",
              "      <td>2010-10-03</td>\n",
              "      <td>0</td>\n",
              "      <td>0</td>\n",
              "      <td>0</td>\n",
              "      <td>Wednesday</td>\n",
              "    </tr>\n",
              "    <tr>\n",
              "      <th>3</th>\n",
              "      <td>C18647</td>\n",
              "      <td>CITY4</td>\n",
              "      <td>2010-11-27</td>\n",
              "      <td>0</td>\n",
              "      <td>0</td>\n",
              "      <td>0</td>\n",
              "      <td>Monday</td>\n",
              "    </tr>\n",
              "    <tr>\n",
              "      <th>4</th>\n",
              "      <td>C36692</td>\n",
              "      <td>CITY2</td>\n",
              "      <td>2009-12-04</td>\n",
              "      <td>1</td>\n",
              "      <td>1</td>\n",
              "      <td>0</td>\n",
              "      <td>Friday</td>\n",
              "    </tr>\n",
              "  </tbody>\n",
              "</table>\n",
              "</div>\n",
              "      <button class=\"colab-df-convert\" onclick=\"convertToInteractive('df-ca42aab6-58c0-4dcc-a76f-05b5b66109c1')\"\n",
              "              title=\"Convert this dataframe to an interactive table.\"\n",
              "              style=\"display:none;\">\n",
              "        \n",
              "  <svg xmlns=\"http://www.w3.org/2000/svg\" height=\"24px\"viewBox=\"0 0 24 24\"\n",
              "       width=\"24px\">\n",
              "    <path d=\"M0 0h24v24H0V0z\" fill=\"none\"/>\n",
              "    <path d=\"M18.56 5.44l.94 2.06.94-2.06 2.06-.94-2.06-.94-.94-2.06-.94 2.06-2.06.94zm-11 1L8.5 8.5l.94-2.06 2.06-.94-2.06-.94L8.5 2.5l-.94 2.06-2.06.94zm10 10l.94 2.06.94-2.06 2.06-.94-2.06-.94-.94-2.06-.94 2.06-2.06.94z\"/><path d=\"M17.41 7.96l-1.37-1.37c-.4-.4-.92-.59-1.43-.59-.52 0-1.04.2-1.43.59L10.3 9.45l-7.72 7.72c-.78.78-.78 2.05 0 2.83L4 21.41c.39.39.9.59 1.41.59.51 0 1.02-.2 1.41-.59l7.78-7.78 2.81-2.81c.8-.78.8-2.07 0-2.86zM5.41 20L4 18.59l7.72-7.72 1.47 1.35L5.41 20z\"/>\n",
              "  </svg>\n",
              "      </button>\n",
              "      \n",
              "  <style>\n",
              "    .colab-df-container {\n",
              "      display:flex;\n",
              "      flex-wrap:wrap;\n",
              "      gap: 12px;\n",
              "    }\n",
              "\n",
              "    .colab-df-convert {\n",
              "      background-color: #E8F0FE;\n",
              "      border: none;\n",
              "      border-radius: 50%;\n",
              "      cursor: pointer;\n",
              "      display: none;\n",
              "      fill: #1967D2;\n",
              "      height: 32px;\n",
              "      padding: 0 0 0 0;\n",
              "      width: 32px;\n",
              "    }\n",
              "\n",
              "    .colab-df-convert:hover {\n",
              "      background-color: #E2EBFA;\n",
              "      box-shadow: 0px 1px 2px rgba(60, 64, 67, 0.3), 0px 1px 3px 1px rgba(60, 64, 67, 0.15);\n",
              "      fill: #174EA6;\n",
              "    }\n",
              "\n",
              "    [theme=dark] .colab-df-convert {\n",
              "      background-color: #3B4455;\n",
              "      fill: #D2E3FC;\n",
              "    }\n",
              "\n",
              "    [theme=dark] .colab-df-convert:hover {\n",
              "      background-color: #434B5C;\n",
              "      box-shadow: 0px 1px 3px 1px rgba(0, 0, 0, 0.15);\n",
              "      filter: drop-shadow(0px 1px 2px rgba(0, 0, 0, 0.3));\n",
              "      fill: #FFFFFF;\n",
              "    }\n",
              "  </style>\n",
              "\n",
              "      <script>\n",
              "        const buttonEl =\n",
              "          document.querySelector('#df-ca42aab6-58c0-4dcc-a76f-05b5b66109c1 button.colab-df-convert');\n",
              "        buttonEl.style.display =\n",
              "          google.colab.kernel.accessAllowed ? 'block' : 'none';\n",
              "\n",
              "        async function convertToInteractive(key) {\n",
              "          const element = document.querySelector('#df-ca42aab6-58c0-4dcc-a76f-05b5b66109c1');\n",
              "          const dataTable =\n",
              "            await google.colab.kernel.invokeFunction('convertToInteractive',\n",
              "                                                     [key], {});\n",
              "          if (!dataTable) return;\n",
              "\n",
              "          const docLinkHtml = 'Like what you see? Visit the ' +\n",
              "            '<a target=\"_blank\" href=https://colab.research.google.com/notebooks/data_table.ipynb>data table notebook</a>'\n",
              "            + ' to learn more about interactive tables.';\n",
              "          element.innerHTML = '';\n",
              "          dataTable['output_type'] = 'display_data';\n",
              "          await google.colab.output.renderOutput(dataTable, element);\n",
              "          const docLink = document.createElement('div');\n",
              "          docLink.innerHTML = docLinkHtml;\n",
              "          element.appendChild(docLink);\n",
              "        }\n",
              "      </script>\n",
              "    </div>\n",
              "  </div>\n",
              "  "
            ]
          },
          "metadata": {},
          "execution_count": 2
        }
      ]
    },
    {
      "cell_type": "code",
      "source": [
        "email_data = pd.read_excel('/content/Emaildata_Train.xlsx')\n",
        "email_data.head()"
      ],
      "metadata": {
        "colab": {
          "base_uri": "https://localhost:8080/",
          "height": 206
        },
        "id": "SJRWIHHRYvpI",
        "outputId": "a22fa456-69c4-4a91-891f-7cc9f3de974f"
      },
      "execution_count": null,
      "outputs": [
        {
          "output_type": "execute_result",
          "data": {
            "text/plain": [
              "  CustomerID DateOfemail     EmailType timestamp MailOpened    MailClicked\n",
              "0     C16368  2012-09-28  WelcomeEmail  15:56:50        yes  NotApplicable\n",
              "1     C20345  2010-12-19  WelcomeEmail  15:10:30        yes  NotApplicable\n",
              "2     C17683  2010-10-03  WelcomeEmail  17:12:24        yes  NotApplicable\n",
              "3     C18647  2010-11-27  WelcomeEmail  16:59:02        yes  NotApplicable\n",
              "4     C36692  2009-12-04  WelcomeEmail  17:27:22        yes  NotApplicable"
            ],
            "text/html": [
              "\n",
              "  <div id=\"df-576b97a3-270f-4406-ac89-75f509073bac\">\n",
              "    <div class=\"colab-df-container\">\n",
              "      <div>\n",
              "<style scoped>\n",
              "    .dataframe tbody tr th:only-of-type {\n",
              "        vertical-align: middle;\n",
              "    }\n",
              "\n",
              "    .dataframe tbody tr th {\n",
              "        vertical-align: top;\n",
              "    }\n",
              "\n",
              "    .dataframe thead th {\n",
              "        text-align: right;\n",
              "    }\n",
              "</style>\n",
              "<table border=\"1\" class=\"dataframe\">\n",
              "  <thead>\n",
              "    <tr style=\"text-align: right;\">\n",
              "      <th></th>\n",
              "      <th>CustomerID</th>\n",
              "      <th>DateOfemail</th>\n",
              "      <th>EmailType</th>\n",
              "      <th>timestamp</th>\n",
              "      <th>MailOpened</th>\n",
              "      <th>MailClicked</th>\n",
              "    </tr>\n",
              "  </thead>\n",
              "  <tbody>\n",
              "    <tr>\n",
              "      <th>0</th>\n",
              "      <td>C16368</td>\n",
              "      <td>2012-09-28</td>\n",
              "      <td>WelcomeEmail</td>\n",
              "      <td>15:56:50</td>\n",
              "      <td>yes</td>\n",
              "      <td>NotApplicable</td>\n",
              "    </tr>\n",
              "    <tr>\n",
              "      <th>1</th>\n",
              "      <td>C20345</td>\n",
              "      <td>2010-12-19</td>\n",
              "      <td>WelcomeEmail</td>\n",
              "      <td>15:10:30</td>\n",
              "      <td>yes</td>\n",
              "      <td>NotApplicable</td>\n",
              "    </tr>\n",
              "    <tr>\n",
              "      <th>2</th>\n",
              "      <td>C17683</td>\n",
              "      <td>2010-10-03</td>\n",
              "      <td>WelcomeEmail</td>\n",
              "      <td>17:12:24</td>\n",
              "      <td>yes</td>\n",
              "      <td>NotApplicable</td>\n",
              "    </tr>\n",
              "    <tr>\n",
              "      <th>3</th>\n",
              "      <td>C18647</td>\n",
              "      <td>2010-11-27</td>\n",
              "      <td>WelcomeEmail</td>\n",
              "      <td>16:59:02</td>\n",
              "      <td>yes</td>\n",
              "      <td>NotApplicable</td>\n",
              "    </tr>\n",
              "    <tr>\n",
              "      <th>4</th>\n",
              "      <td>C36692</td>\n",
              "      <td>2009-12-04</td>\n",
              "      <td>WelcomeEmail</td>\n",
              "      <td>17:27:22</td>\n",
              "      <td>yes</td>\n",
              "      <td>NotApplicable</td>\n",
              "    </tr>\n",
              "  </tbody>\n",
              "</table>\n",
              "</div>\n",
              "      <button class=\"colab-df-convert\" onclick=\"convertToInteractive('df-576b97a3-270f-4406-ac89-75f509073bac')\"\n",
              "              title=\"Convert this dataframe to an interactive table.\"\n",
              "              style=\"display:none;\">\n",
              "        \n",
              "  <svg xmlns=\"http://www.w3.org/2000/svg\" height=\"24px\"viewBox=\"0 0 24 24\"\n",
              "       width=\"24px\">\n",
              "    <path d=\"M0 0h24v24H0V0z\" fill=\"none\"/>\n",
              "    <path d=\"M18.56 5.44l.94 2.06.94-2.06 2.06-.94-2.06-.94-.94-2.06-.94 2.06-2.06.94zm-11 1L8.5 8.5l.94-2.06 2.06-.94-2.06-.94L8.5 2.5l-.94 2.06-2.06.94zm10 10l.94 2.06.94-2.06 2.06-.94-2.06-.94-.94-2.06-.94 2.06-2.06.94z\"/><path d=\"M17.41 7.96l-1.37-1.37c-.4-.4-.92-.59-1.43-.59-.52 0-1.04.2-1.43.59L10.3 9.45l-7.72 7.72c-.78.78-.78 2.05 0 2.83L4 21.41c.39.39.9.59 1.41.59.51 0 1.02-.2 1.41-.59l7.78-7.78 2.81-2.81c.8-.78.8-2.07 0-2.86zM5.41 20L4 18.59l7.72-7.72 1.47 1.35L5.41 20z\"/>\n",
              "  </svg>\n",
              "      </button>\n",
              "      \n",
              "  <style>\n",
              "    .colab-df-container {\n",
              "      display:flex;\n",
              "      flex-wrap:wrap;\n",
              "      gap: 12px;\n",
              "    }\n",
              "\n",
              "    .colab-df-convert {\n",
              "      background-color: #E8F0FE;\n",
              "      border: none;\n",
              "      border-radius: 50%;\n",
              "      cursor: pointer;\n",
              "      display: none;\n",
              "      fill: #1967D2;\n",
              "      height: 32px;\n",
              "      padding: 0 0 0 0;\n",
              "      width: 32px;\n",
              "    }\n",
              "\n",
              "    .colab-df-convert:hover {\n",
              "      background-color: #E2EBFA;\n",
              "      box-shadow: 0px 1px 2px rgba(60, 64, 67, 0.3), 0px 1px 3px 1px rgba(60, 64, 67, 0.15);\n",
              "      fill: #174EA6;\n",
              "    }\n",
              "\n",
              "    [theme=dark] .colab-df-convert {\n",
              "      background-color: #3B4455;\n",
              "      fill: #D2E3FC;\n",
              "    }\n",
              "\n",
              "    [theme=dark] .colab-df-convert:hover {\n",
              "      background-color: #434B5C;\n",
              "      box-shadow: 0px 1px 3px 1px rgba(0, 0, 0, 0.15);\n",
              "      filter: drop-shadow(0px 1px 2px rgba(0, 0, 0, 0.3));\n",
              "      fill: #FFFFFF;\n",
              "    }\n",
              "  </style>\n",
              "\n",
              "      <script>\n",
              "        const buttonEl =\n",
              "          document.querySelector('#df-576b97a3-270f-4406-ac89-75f509073bac button.colab-df-convert');\n",
              "        buttonEl.style.display =\n",
              "          google.colab.kernel.accessAllowed ? 'block' : 'none';\n",
              "\n",
              "        async function convertToInteractive(key) {\n",
              "          const element = document.querySelector('#df-576b97a3-270f-4406-ac89-75f509073bac');\n",
              "          const dataTable =\n",
              "            await google.colab.kernel.invokeFunction('convertToInteractive',\n",
              "                                                     [key], {});\n",
              "          if (!dataTable) return;\n",
              "\n",
              "          const docLinkHtml = 'Like what you see? Visit the ' +\n",
              "            '<a target=\"_blank\" href=https://colab.research.google.com/notebooks/data_table.ipynb>data table notebook</a>'\n",
              "            + ' to learn more about interactive tables.';\n",
              "          element.innerHTML = '';\n",
              "          dataTable['output_type'] = 'display_data';\n",
              "          await google.colab.output.renderOutput(dataTable, element);\n",
              "          const docLink = document.createElement('div');\n",
              "          docLink.innerHTML = docLinkHtml;\n",
              "          element.appendChild(docLink);\n",
              "        }\n",
              "      </script>\n",
              "    </div>\n",
              "  </div>\n",
              "  "
            ]
          },
          "metadata": {},
          "execution_count": 3
        }
      ]
    },
    {
      "cell_type": "code",
      "source": [
        "train_data = pd.read_excel('/content/Train.xlsx')\n",
        "train_data.head()"
      ],
      "metadata": {
        "colab": {
          "base_uri": "https://localhost:8080/",
          "height": 206
        },
        "id": "qJcfCDlxb918",
        "outputId": "85c71922-a40d-4036-9de7-f743da066e93"
      },
      "execution_count": null,
      "outputs": [
        {
          "output_type": "execute_result",
          "data": {
            "text/plain": [
              "  CustomerID RetentionPotential\n",
              "0     C37869                Low\n",
              "1     C33841                Low\n",
              "2     C29464                Low\n",
              "3     C28158                Low\n",
              "4     C22785               High"
            ],
            "text/html": [
              "\n",
              "  <div id=\"df-6333d3f0-8eb2-4a01-ae60-957e5d58809e\">\n",
              "    <div class=\"colab-df-container\">\n",
              "      <div>\n",
              "<style scoped>\n",
              "    .dataframe tbody tr th:only-of-type {\n",
              "        vertical-align: middle;\n",
              "    }\n",
              "\n",
              "    .dataframe tbody tr th {\n",
              "        vertical-align: top;\n",
              "    }\n",
              "\n",
              "    .dataframe thead th {\n",
              "        text-align: right;\n",
              "    }\n",
              "</style>\n",
              "<table border=\"1\" class=\"dataframe\">\n",
              "  <thead>\n",
              "    <tr style=\"text-align: right;\">\n",
              "      <th></th>\n",
              "      <th>CustomerID</th>\n",
              "      <th>RetentionPotential</th>\n",
              "    </tr>\n",
              "  </thead>\n",
              "  <tbody>\n",
              "    <tr>\n",
              "      <th>0</th>\n",
              "      <td>C37869</td>\n",
              "      <td>Low</td>\n",
              "    </tr>\n",
              "    <tr>\n",
              "      <th>1</th>\n",
              "      <td>C33841</td>\n",
              "      <td>Low</td>\n",
              "    </tr>\n",
              "    <tr>\n",
              "      <th>2</th>\n",
              "      <td>C29464</td>\n",
              "      <td>Low</td>\n",
              "    </tr>\n",
              "    <tr>\n",
              "      <th>3</th>\n",
              "      <td>C28158</td>\n",
              "      <td>Low</td>\n",
              "    </tr>\n",
              "    <tr>\n",
              "      <th>4</th>\n",
              "      <td>C22785</td>\n",
              "      <td>High</td>\n",
              "    </tr>\n",
              "  </tbody>\n",
              "</table>\n",
              "</div>\n",
              "      <button class=\"colab-df-convert\" onclick=\"convertToInteractive('df-6333d3f0-8eb2-4a01-ae60-957e5d58809e')\"\n",
              "              title=\"Convert this dataframe to an interactive table.\"\n",
              "              style=\"display:none;\">\n",
              "        \n",
              "  <svg xmlns=\"http://www.w3.org/2000/svg\" height=\"24px\"viewBox=\"0 0 24 24\"\n",
              "       width=\"24px\">\n",
              "    <path d=\"M0 0h24v24H0V0z\" fill=\"none\"/>\n",
              "    <path d=\"M18.56 5.44l.94 2.06.94-2.06 2.06-.94-2.06-.94-.94-2.06-.94 2.06-2.06.94zm-11 1L8.5 8.5l.94-2.06 2.06-.94-2.06-.94L8.5 2.5l-.94 2.06-2.06.94zm10 10l.94 2.06.94-2.06 2.06-.94-2.06-.94-.94-2.06-.94 2.06-2.06.94z\"/><path d=\"M17.41 7.96l-1.37-1.37c-.4-.4-.92-.59-1.43-.59-.52 0-1.04.2-1.43.59L10.3 9.45l-7.72 7.72c-.78.78-.78 2.05 0 2.83L4 21.41c.39.39.9.59 1.41.59.51 0 1.02-.2 1.41-.59l7.78-7.78 2.81-2.81c.8-.78.8-2.07 0-2.86zM5.41 20L4 18.59l7.72-7.72 1.47 1.35L5.41 20z\"/>\n",
              "  </svg>\n",
              "      </button>\n",
              "      \n",
              "  <style>\n",
              "    .colab-df-container {\n",
              "      display:flex;\n",
              "      flex-wrap:wrap;\n",
              "      gap: 12px;\n",
              "    }\n",
              "\n",
              "    .colab-df-convert {\n",
              "      background-color: #E8F0FE;\n",
              "      border: none;\n",
              "      border-radius: 50%;\n",
              "      cursor: pointer;\n",
              "      display: none;\n",
              "      fill: #1967D2;\n",
              "      height: 32px;\n",
              "      padding: 0 0 0 0;\n",
              "      width: 32px;\n",
              "    }\n",
              "\n",
              "    .colab-df-convert:hover {\n",
              "      background-color: #E2EBFA;\n",
              "      box-shadow: 0px 1px 2px rgba(60, 64, 67, 0.3), 0px 1px 3px 1px rgba(60, 64, 67, 0.15);\n",
              "      fill: #174EA6;\n",
              "    }\n",
              "\n",
              "    [theme=dark] .colab-df-convert {\n",
              "      background-color: #3B4455;\n",
              "      fill: #D2E3FC;\n",
              "    }\n",
              "\n",
              "    [theme=dark] .colab-df-convert:hover {\n",
              "      background-color: #434B5C;\n",
              "      box-shadow: 0px 1px 3px 1px rgba(0, 0, 0, 0.15);\n",
              "      filter: drop-shadow(0px 1px 2px rgba(0, 0, 0, 0.3));\n",
              "      fill: #FFFFFF;\n",
              "    }\n",
              "  </style>\n",
              "\n",
              "      <script>\n",
              "        const buttonEl =\n",
              "          document.querySelector('#df-6333d3f0-8eb2-4a01-ae60-957e5d58809e button.colab-df-convert');\n",
              "        buttonEl.style.display =\n",
              "          google.colab.kernel.accessAllowed ? 'block' : 'none';\n",
              "\n",
              "        async function convertToInteractive(key) {\n",
              "          const element = document.querySelector('#df-6333d3f0-8eb2-4a01-ae60-957e5d58809e');\n",
              "          const dataTable =\n",
              "            await google.colab.kernel.invokeFunction('convertToInteractive',\n",
              "                                                     [key], {});\n",
              "          if (!dataTable) return;\n",
              "\n",
              "          const docLinkHtml = 'Like what you see? Visit the ' +\n",
              "            '<a target=\"_blank\" href=https://colab.research.google.com/notebooks/data_table.ipynb>data table notebook</a>'\n",
              "            + ' to learn more about interactive tables.';\n",
              "          element.innerHTML = '';\n",
              "          dataTable['output_type'] = 'display_data';\n",
              "          await google.colab.output.renderOutput(dataTable, element);\n",
              "          const docLink = document.createElement('div');\n",
              "          docLink.innerHTML = docLinkHtml;\n",
              "          element.appendChild(docLink);\n",
              "        }\n",
              "      </script>\n",
              "    </div>\n",
              "  </div>\n",
              "  "
            ]
          },
          "metadata": {},
          "execution_count": 4
        }
      ]
    },
    {
      "cell_type": "code",
      "source": [
        "trans_data = pd.read_excel('/content/transactionsdata_Train.xlsx')\n",
        "trans_data.head()"
      ],
      "metadata": {
        "colab": {
          "base_uri": "https://localhost:8080/",
          "height": 206
        },
        "id": "nqgEeezDcVJn",
        "outputId": "6a3c3130-cd74-40ca-d2d4-206198e4ab63"
      },
      "execution_count": null,
      "outputs": [
        {
          "output_type": "execute_result",
          "data": {
            "text/plain": [
              "  CustomerID DateOfOrder timestamp  OrderQuantity\n",
              "0     C16368  2013-08-11  15:17:52             15\n",
              "1     C20345  2011-04-01  19:50:00             92\n",
              "2     C20345  2012-06-29  15:11:56             95\n",
              "3     C20345  2012-09-22  20:49:10             74\n",
              "4     C20345  2011-08-23  11:50:26             81"
            ],
            "text/html": [
              "\n",
              "  <div id=\"df-d762e660-c805-4877-a44f-1bf81b01949b\">\n",
              "    <div class=\"colab-df-container\">\n",
              "      <div>\n",
              "<style scoped>\n",
              "    .dataframe tbody tr th:only-of-type {\n",
              "        vertical-align: middle;\n",
              "    }\n",
              "\n",
              "    .dataframe tbody tr th {\n",
              "        vertical-align: top;\n",
              "    }\n",
              "\n",
              "    .dataframe thead th {\n",
              "        text-align: right;\n",
              "    }\n",
              "</style>\n",
              "<table border=\"1\" class=\"dataframe\">\n",
              "  <thead>\n",
              "    <tr style=\"text-align: right;\">\n",
              "      <th></th>\n",
              "      <th>CustomerID</th>\n",
              "      <th>DateOfOrder</th>\n",
              "      <th>timestamp</th>\n",
              "      <th>OrderQuantity</th>\n",
              "    </tr>\n",
              "  </thead>\n",
              "  <tbody>\n",
              "    <tr>\n",
              "      <th>0</th>\n",
              "      <td>C16368</td>\n",
              "      <td>2013-08-11</td>\n",
              "      <td>15:17:52</td>\n",
              "      <td>15</td>\n",
              "    </tr>\n",
              "    <tr>\n",
              "      <th>1</th>\n",
              "      <td>C20345</td>\n",
              "      <td>2011-04-01</td>\n",
              "      <td>19:50:00</td>\n",
              "      <td>92</td>\n",
              "    </tr>\n",
              "    <tr>\n",
              "      <th>2</th>\n",
              "      <td>C20345</td>\n",
              "      <td>2012-06-29</td>\n",
              "      <td>15:11:56</td>\n",
              "      <td>95</td>\n",
              "    </tr>\n",
              "    <tr>\n",
              "      <th>3</th>\n",
              "      <td>C20345</td>\n",
              "      <td>2012-09-22</td>\n",
              "      <td>20:49:10</td>\n",
              "      <td>74</td>\n",
              "    </tr>\n",
              "    <tr>\n",
              "      <th>4</th>\n",
              "      <td>C20345</td>\n",
              "      <td>2011-08-23</td>\n",
              "      <td>11:50:26</td>\n",
              "      <td>81</td>\n",
              "    </tr>\n",
              "  </tbody>\n",
              "</table>\n",
              "</div>\n",
              "      <button class=\"colab-df-convert\" onclick=\"convertToInteractive('df-d762e660-c805-4877-a44f-1bf81b01949b')\"\n",
              "              title=\"Convert this dataframe to an interactive table.\"\n",
              "              style=\"display:none;\">\n",
              "        \n",
              "  <svg xmlns=\"http://www.w3.org/2000/svg\" height=\"24px\"viewBox=\"0 0 24 24\"\n",
              "       width=\"24px\">\n",
              "    <path d=\"M0 0h24v24H0V0z\" fill=\"none\"/>\n",
              "    <path d=\"M18.56 5.44l.94 2.06.94-2.06 2.06-.94-2.06-.94-.94-2.06-.94 2.06-2.06.94zm-11 1L8.5 8.5l.94-2.06 2.06-.94-2.06-.94L8.5 2.5l-.94 2.06-2.06.94zm10 10l.94 2.06.94-2.06 2.06-.94-2.06-.94-.94-2.06-.94 2.06-2.06.94z\"/><path d=\"M17.41 7.96l-1.37-1.37c-.4-.4-.92-.59-1.43-.59-.52 0-1.04.2-1.43.59L10.3 9.45l-7.72 7.72c-.78.78-.78 2.05 0 2.83L4 21.41c.39.39.9.59 1.41.59.51 0 1.02-.2 1.41-.59l7.78-7.78 2.81-2.81c.8-.78.8-2.07 0-2.86zM5.41 20L4 18.59l7.72-7.72 1.47 1.35L5.41 20z\"/>\n",
              "  </svg>\n",
              "      </button>\n",
              "      \n",
              "  <style>\n",
              "    .colab-df-container {\n",
              "      display:flex;\n",
              "      flex-wrap:wrap;\n",
              "      gap: 12px;\n",
              "    }\n",
              "\n",
              "    .colab-df-convert {\n",
              "      background-color: #E8F0FE;\n",
              "      border: none;\n",
              "      border-radius: 50%;\n",
              "      cursor: pointer;\n",
              "      display: none;\n",
              "      fill: #1967D2;\n",
              "      height: 32px;\n",
              "      padding: 0 0 0 0;\n",
              "      width: 32px;\n",
              "    }\n",
              "\n",
              "    .colab-df-convert:hover {\n",
              "      background-color: #E2EBFA;\n",
              "      box-shadow: 0px 1px 2px rgba(60, 64, 67, 0.3), 0px 1px 3px 1px rgba(60, 64, 67, 0.15);\n",
              "      fill: #174EA6;\n",
              "    }\n",
              "\n",
              "    [theme=dark] .colab-df-convert {\n",
              "      background-color: #3B4455;\n",
              "      fill: #D2E3FC;\n",
              "    }\n",
              "\n",
              "    [theme=dark] .colab-df-convert:hover {\n",
              "      background-color: #434B5C;\n",
              "      box-shadow: 0px 1px 3px 1px rgba(0, 0, 0, 0.15);\n",
              "      filter: drop-shadow(0px 1px 2px rgba(0, 0, 0, 0.3));\n",
              "      fill: #FFFFFF;\n",
              "    }\n",
              "  </style>\n",
              "\n",
              "      <script>\n",
              "        const buttonEl =\n",
              "          document.querySelector('#df-d762e660-c805-4877-a44f-1bf81b01949b button.colab-df-convert');\n",
              "        buttonEl.style.display =\n",
              "          google.colab.kernel.accessAllowed ? 'block' : 'none';\n",
              "\n",
              "        async function convertToInteractive(key) {\n",
              "          const element = document.querySelector('#df-d762e660-c805-4877-a44f-1bf81b01949b');\n",
              "          const dataTable =\n",
              "            await google.colab.kernel.invokeFunction('convertToInteractive',\n",
              "                                                     [key], {});\n",
              "          if (!dataTable) return;\n",
              "\n",
              "          const docLinkHtml = 'Like what you see? Visit the ' +\n",
              "            '<a target=\"_blank\" href=https://colab.research.google.com/notebooks/data_table.ipynb>data table notebook</a>'\n",
              "            + ' to learn more about interactive tables.';\n",
              "          element.innerHTML = '';\n",
              "          dataTable['output_type'] = 'display_data';\n",
              "          await google.colab.output.renderOutput(dataTable, element);\n",
              "          const docLink = document.createElement('div');\n",
              "          docLink.innerHTML = docLinkHtml;\n",
              "          element.appendChild(docLink);\n",
              "        }\n",
              "      </script>\n",
              "    </div>\n",
              "  </div>\n",
              "  "
            ]
          },
          "metadata": {},
          "execution_count": 5
        }
      ]
    },
    {
      "cell_type": "markdown",
      "source": [
        "**DIMENSIONS OF THE DATA**"
      ],
      "metadata": {
        "id": "tgq3bGdTf3BP"
      }
    },
    {
      "cell_type": "code",
      "source": [
        "# Gives the number of records and columns in the dataframe\n",
        "print('cust_data shape',cust_data.shape)\n",
        "print('email_data shape',email_data.shape)\n",
        "print('train_data shape',train_data.shape)\n",
        "print('trans_data shape',trans_data.shape)"
      ],
      "metadata": {
        "colab": {
          "base_uri": "https://localhost:8080/"
        },
        "id": "1C_wt3fbcj4Z",
        "outputId": "10ecf3a9-4850-44a6-b036-df4bdcd3b48a"
      },
      "execution_count": null,
      "outputs": [
        {
          "output_type": "stream",
          "name": "stdout",
          "text": [
            "cust_data shape (23820, 7)\n",
            "email_data shape (517672, 6)\n",
            "train_data shape (23820, 2)\n",
            "trans_data shape (104755, 4)\n"
          ]
        }
      ]
    },
    {
      "cell_type": "markdown",
      "source": [
        "**IDENTIFICATION OF VARIABLES AND DATATYPES**"
      ],
      "metadata": {
        "id": "LYIo2Z7vttpp"
      }
    },
    {
      "cell_type": "code",
      "source": [
        "# Checking the cust_data datatypes\n",
        "cust_data.dtypes"
      ],
      "metadata": {
        "colab": {
          "base_uri": "https://localhost:8080/"
        },
        "id": "3mMr1jpqjvBR",
        "outputId": "d88d0014-d38a-4b41-8994-bbaee27032f1"
      },
      "execution_count": null,
      "outputs": [
        {
          "output_type": "execute_result",
          "data": {
            "text/plain": [
              "CustomerID                      object\n",
              "City                            object\n",
              "DateOfRegistration      datetime64[ns]\n",
              "OnlineCommunication              int64\n",
              "AutomaticRefill                  int64\n",
              "DoorstepDelivery                 int64\n",
              "PreferredDeliveryDay            object\n",
              "dtype: object"
            ]
          },
          "metadata": {},
          "execution_count": 7
        }
      ]
    },
    {
      "cell_type": "code",
      "source": [
        "# Checking the email_data datatypes\n",
        "email_data.dtypes"
      ],
      "metadata": {
        "colab": {
          "base_uri": "https://localhost:8080/"
        },
        "id": "VhVbkvkX2oYc",
        "outputId": "75986d09-a427-4e0d-f5a9-c90d7c576010"
      },
      "execution_count": null,
      "outputs": [
        {
          "output_type": "execute_result",
          "data": {
            "text/plain": [
              "CustomerID     object\n",
              "DateOfemail    object\n",
              "EmailType      object\n",
              "timestamp      object\n",
              "MailOpened     object\n",
              "MailClicked    object\n",
              "dtype: object"
            ]
          },
          "metadata": {},
          "execution_count": 8
        }
      ]
    },
    {
      "cell_type": "code",
      "source": [
        "# Checking the train_data dtypes\n",
        "train_data.dtypes"
      ],
      "metadata": {
        "colab": {
          "base_uri": "https://localhost:8080/"
        },
        "id": "54lTdMsD25m6",
        "outputId": "0fad51a0-7555-4218-ddc2-0f234f9e7899"
      },
      "execution_count": null,
      "outputs": [
        {
          "output_type": "execute_result",
          "data": {
            "text/plain": [
              "CustomerID            object\n",
              "RetentionPotential    object\n",
              "dtype: object"
            ]
          },
          "metadata": {},
          "execution_count": 9
        }
      ]
    },
    {
      "cell_type": "code",
      "source": [
        "# Checking the trans_data dtypes\n",
        "trans_data.dtypes"
      ],
      "metadata": {
        "colab": {
          "base_uri": "https://localhost:8080/"
        },
        "id": "FCpxmmig3BRN",
        "outputId": "581d1311-28c4-4e21-d189-ebc8cc35ff18"
      },
      "execution_count": null,
      "outputs": [
        {
          "output_type": "execute_result",
          "data": {
            "text/plain": [
              "CustomerID       object\n",
              "DateOfOrder      object\n",
              "timestamp        object\n",
              "OrderQuantity     int64\n",
              "dtype: object"
            ]
          },
          "metadata": {},
          "execution_count": 10
        }
      ]
    },
    {
      "cell_type": "markdown",
      "source": [
        "**UNIQUE VALUE COUNT ANALYSIS**"
      ],
      "metadata": {
        "id": "V2VzMULrAhYN"
      }
    },
    {
      "cell_type": "code",
      "source": [
        "# cust_data unique value count analysis\n",
        "cust_data.nunique()"
      ],
      "metadata": {
        "colab": {
          "base_uri": "https://localhost:8080/"
        },
        "id": "h9gklGVH_ToC",
        "outputId": "2e0adc12-d23f-4cb1-a11b-d1f694cf3c52"
      },
      "execution_count": null,
      "outputs": [
        {
          "output_type": "execute_result",
          "data": {
            "text/plain": [
              "CustomerID              23820\n",
              "City                        4\n",
              "DateOfRegistration       2673\n",
              "OnlineCommunication         2\n",
              "AutomaticRefill             2\n",
              "DoorstepDelivery            2\n",
              "PreferredDeliveryDay        7\n",
              "dtype: int64"
            ]
          },
          "metadata": {},
          "execution_count": 11
        }
      ]
    },
    {
      "cell_type": "code",
      "source": [
        "# email_data unique value count analysis\n",
        "email_data.nunique()"
      ],
      "metadata": {
        "colab": {
          "base_uri": "https://localhost:8080/"
        },
        "id": "N0e9cJL9_Tki",
        "outputId": "989928a3-6afa-4961-a803-f72c429f2d26"
      },
      "execution_count": null,
      "outputs": [
        {
          "output_type": "execute_result",
          "data": {
            "text/plain": [
              "CustomerID     23820\n",
              "DateOfemail     3382\n",
              "EmailType          2\n",
              "timestamp      14369\n",
              "MailOpened         2\n",
              "MailClicked        3\n",
              "dtype: int64"
            ]
          },
          "metadata": {},
          "execution_count": 12
        }
      ]
    },
    {
      "cell_type": "code",
      "source": [
        "# train_data unique value count analysis\n",
        "train_data.nunique()"
      ],
      "metadata": {
        "colab": {
          "base_uri": "https://localhost:8080/"
        },
        "id": "37t2fgt6_TYL",
        "outputId": "82fb8852-46b9-4f0e-d3a6-00c59f3ed7c2"
      },
      "execution_count": null,
      "outputs": [
        {
          "output_type": "execute_result",
          "data": {
            "text/plain": [
              "CustomerID            23820\n",
              "RetentionPotential        3\n",
              "dtype: int64"
            ]
          },
          "metadata": {},
          "execution_count": 13
        }
      ]
    },
    {
      "cell_type": "code",
      "source": [
        "# trans_data unique value count analysis\n",
        "trans_data.nunique()"
      ],
      "metadata": {
        "colab": {
          "base_uri": "https://localhost:8080/"
        },
        "id": "EhYxSN6rBYmk",
        "outputId": "e877e5d1-09ba-4c7a-f50f-12b7e86e86d6"
      },
      "execution_count": null,
      "outputs": [
        {
          "output_type": "execute_result",
          "data": {
            "text/plain": [
              "CustomerID       23820\n",
              "DateOfOrder       3151\n",
              "timestamp        21399\n",
              "OrderQuantity      451\n",
              "dtype: int64"
            ]
          },
          "metadata": {},
          "execution_count": 14
        }
      ]
    },
    {
      "cell_type": "markdown",
      "source": [
        "**EXPLORATORY DATA ANALYSIS**\n",
        "\n",
        "\n",
        "\n",
        "\n",
        "\n",
        "\n",
        "**Misssing Values In Each Dataset**"
      ],
      "metadata": {
        "id": "IPHVKVD2DZgM"
      }
    },
    {
      "cell_type": "code",
      "source": [
        "# Check for null values in each column\n",
        "cust_data.isna().sum()"
      ],
      "metadata": {
        "colab": {
          "base_uri": "https://localhost:8080/"
        },
        "id": "KPxCNoeQEyAH",
        "outputId": "31beee02-9501-41ea-c739-636dc718bc63"
      },
      "execution_count": null,
      "outputs": [
        {
          "output_type": "execute_result",
          "data": {
            "text/plain": [
              "CustomerID              0\n",
              "City                    0\n",
              "DateOfRegistration      0\n",
              "OnlineCommunication     0\n",
              "AutomaticRefill         0\n",
              "DoorstepDelivery        0\n",
              "PreferredDeliveryDay    0\n",
              "dtype: int64"
            ]
          },
          "metadata": {},
          "execution_count": 15
        }
      ]
    },
    {
      "cell_type": "code",
      "source": [
        "# Check for null values in each column\n",
        "email_data.isna().sum()"
      ],
      "metadata": {
        "colab": {
          "base_uri": "https://localhost:8080/"
        },
        "id": "V7pV0o_SEx8q",
        "outputId": "2c4fac76-3064-4d55-e665-40dad6052569"
      },
      "execution_count": null,
      "outputs": [
        {
          "output_type": "execute_result",
          "data": {
            "text/plain": [
              "CustomerID     0\n",
              "DateOfemail    0\n",
              "EmailType      0\n",
              "timestamp      0\n",
              "MailOpened     0\n",
              "MailClicked    0\n",
              "dtype: int64"
            ]
          },
          "metadata": {},
          "execution_count": 16
        }
      ]
    },
    {
      "cell_type": "code",
      "source": [
        "# Check for null values in each column\n",
        "train_data.isna().sum()"
      ],
      "metadata": {
        "colab": {
          "base_uri": "https://localhost:8080/"
        },
        "id": "Qc47zqzAEx3W",
        "outputId": "f5b97e9b-5980-491e-b2ab-9d68869f37a6"
      },
      "execution_count": null,
      "outputs": [
        {
          "output_type": "execute_result",
          "data": {
            "text/plain": [
              "CustomerID            0\n",
              "RetentionPotential    0\n",
              "dtype: int64"
            ]
          },
          "metadata": {},
          "execution_count": 17
        }
      ]
    },
    {
      "cell_type": "code",
      "source": [
        "# Check for null values in each column\n",
        "trans_data.isna().sum()"
      ],
      "metadata": {
        "colab": {
          "base_uri": "https://localhost:8080/"
        },
        "id": "29rXlrr7Expe",
        "outputId": "3228a492-9f93-4b06-e28c-84c7e1403669"
      },
      "execution_count": null,
      "outputs": [
        {
          "output_type": "execute_result",
          "data": {
            "text/plain": [
              "CustomerID       0\n",
              "DateOfOrder      0\n",
              "timestamp        0\n",
              "OrderQuantity    0\n",
              "dtype: int64"
            ]
          },
          "metadata": {},
          "execution_count": 18
        }
      ]
    },
    {
      "cell_type": "code",
      "source": [
        "# Counts frequency of values in 'EmailType' column of 'email_data'\n",
        "email_data.EmailType.value_counts()"
      ],
      "metadata": {
        "colab": {
          "base_uri": "https://localhost:8080/"
        },
        "id": "A8Veb6YH8bp3",
        "outputId": "89039e84-ef54-416e-db83-bc67770d5d4b"
      },
      "execution_count": null,
      "outputs": [
        {
          "output_type": "execute_result",
          "data": {
            "text/plain": [
              "CustomizedEmail    493852\n",
              "WelcomeEmail        23820\n",
              "Name: EmailType, dtype: int64"
            ]
          },
          "metadata": {},
          "execution_count": 19
        }
      ]
    },
    {
      "cell_type": "code",
      "source": [
        "# Counts frequency of values in 'MailOpened' column of 'email_data'\n",
        "email_data.MailOpened.value_counts()"
      ],
      "metadata": {
        "colab": {
          "base_uri": "https://localhost:8080/"
        },
        "id": "pA0ePh_e8bgq",
        "outputId": "793835c3-5cb3-4145-b563-165289c3b670"
      },
      "execution_count": null,
      "outputs": [
        {
          "output_type": "execute_result",
          "data": {
            "text/plain": [
              "no     369812\n",
              "yes    147860\n",
              "Name: MailOpened, dtype: int64"
            ]
          },
          "metadata": {},
          "execution_count": 20
        }
      ]
    },
    {
      "cell_type": "code",
      "source": [
        "# Counts frequency of values in 'MailClicked' column of 'email_data'\n",
        "email_data.MailClicked.value_counts()"
      ],
      "metadata": {
        "colab": {
          "base_uri": "https://localhost:8080/"
        },
        "id": "_dyINGPs83Dw",
        "outputId": "57ced7e3-861f-42a7-f248-125260922a23"
      },
      "execution_count": null,
      "outputs": [
        {
          "output_type": "execute_result",
          "data": {
            "text/plain": [
              "no               466011\n",
              "yes               27841\n",
              "NotApplicable     23820\n",
              "Name: MailClicked, dtype: int64"
            ]
          },
          "metadata": {},
          "execution_count": 21
        }
      ]
    },
    {
      "cell_type": "code",
      "source": [
        "# Convert date of email to a datetime datatype\n",
        "email_data[\"DateOfemail\"]=pd.to_datetime(email_data[\"DateOfemail\"])"
      ],
      "metadata": {
        "id": "NGA6Dy-Xx9cQ"
      },
      "execution_count": null,
      "outputs": []
    },
    {
      "cell_type": "code",
      "source": [
        "# Checking the email_data datatypes\n",
        "email_data.dtypes"
      ],
      "metadata": {
        "colab": {
          "base_uri": "https://localhost:8080/"
        },
        "id": "aaJW6N4szXhR",
        "outputId": "74a29c1c-9f24-4862-9479-2684d5b40adc"
      },
      "execution_count": null,
      "outputs": [
        {
          "output_type": "execute_result",
          "data": {
            "text/plain": [
              "CustomerID             object\n",
              "DateOfemail    datetime64[ns]\n",
              "EmailType              object\n",
              "timestamp              object\n",
              "MailOpened             object\n",
              "MailClicked            object\n",
              "dtype: object"
            ]
          },
          "metadata": {},
          "execution_count": 23
        }
      ]
    },
    {
      "cell_type": "code",
      "source": [
        "# Calculates frequency of CustomerID, EmailType, MailOpened, and MailClicked for each customer in a DataFrame, and merges the frequency tables on the CustomerID column.\n",
        "def manp_data(df2):\n",
        "    df2_email=pd.crosstab(df2.CustomerID,df2.EmailType).reset_index()\n",
        "    df2_mail=pd.crosstab(df2.CustomerID,df2.MailOpened).reset_index()\n",
        "    df2_click=pd.crosstab(df2.CustomerID,df2.MailClicked).reset_index()\n",
        "    df2=df2_email.merge(df2_mail,on=\"CustomerID\",how=\"left\").merge(df2_click,on=\"CustomerID\",how=\"left\")\n",
        "    return df2\n",
        "df2=manp_data(email_data)"
      ],
      "metadata": {
        "id": "lz_WEHKFzt7i"
      },
      "execution_count": null,
      "outputs": []
    },
    {
      "cell_type": "code",
      "source": [
        "# Load the cust_data\n",
        "cust_data "
      ],
      "metadata": {
        "colab": {
          "base_uri": "https://localhost:8080/",
          "height": 487
        },
        "id": "HcA6hzWKzt4H",
        "outputId": "f3b6c974-8314-4b0b-e452-32731bbd13bb"
      },
      "execution_count": null,
      "outputs": [
        {
          "output_type": "execute_result",
          "data": {
            "text/plain": [
              "      CustomerID   City DateOfRegistration  OnlineCommunication  \\\n",
              "0         C16368  CITY2         2012-09-28                    0   \n",
              "1         C20345  CITY2         2010-12-19                    1   \n",
              "2         C17683  CITY2         2010-10-03                    0   \n",
              "3         C18647  CITY4         2010-11-27                    0   \n",
              "4         C36692  CITY2         2009-12-04                    1   \n",
              "...          ...    ...                ...                  ...   \n",
              "23815     C23511  CITY2         2018-01-17                    1   \n",
              "23816     C12197  CITY3         2018-01-17                    1   \n",
              "23817     C40967  CITY3         2018-01-17                    1   \n",
              "23818     C36140  CITY3         2018-01-17                    1   \n",
              "23819     C42003  CITY4         2018-01-17                    1   \n",
              "\n",
              "       AutomaticRefill  DoorstepDelivery PreferredDeliveryDay  \n",
              "0                    0                 0               Monday  \n",
              "1                    1                 1               Friday  \n",
              "2                    0                 0            Wednesday  \n",
              "3                    0                 0               Monday  \n",
              "4                    1                 0               Friday  \n",
              "...                ...               ...                  ...  \n",
              "23815                1                 0               Friday  \n",
              "23816                0                 1               Friday  \n",
              "23817                0                 0             Saturday  \n",
              "23818                1                 0             Saturday  \n",
              "23819                0                 0               Friday  \n",
              "\n",
              "[23820 rows x 7 columns]"
            ],
            "text/html": [
              "\n",
              "  <div id=\"df-6e06fd30-430e-4877-b45a-f98ce61aceae\">\n",
              "    <div class=\"colab-df-container\">\n",
              "      <div>\n",
              "<style scoped>\n",
              "    .dataframe tbody tr th:only-of-type {\n",
              "        vertical-align: middle;\n",
              "    }\n",
              "\n",
              "    .dataframe tbody tr th {\n",
              "        vertical-align: top;\n",
              "    }\n",
              "\n",
              "    .dataframe thead th {\n",
              "        text-align: right;\n",
              "    }\n",
              "</style>\n",
              "<table border=\"1\" class=\"dataframe\">\n",
              "  <thead>\n",
              "    <tr style=\"text-align: right;\">\n",
              "      <th></th>\n",
              "      <th>CustomerID</th>\n",
              "      <th>City</th>\n",
              "      <th>DateOfRegistration</th>\n",
              "      <th>OnlineCommunication</th>\n",
              "      <th>AutomaticRefill</th>\n",
              "      <th>DoorstepDelivery</th>\n",
              "      <th>PreferredDeliveryDay</th>\n",
              "    </tr>\n",
              "  </thead>\n",
              "  <tbody>\n",
              "    <tr>\n",
              "      <th>0</th>\n",
              "      <td>C16368</td>\n",
              "      <td>CITY2</td>\n",
              "      <td>2012-09-28</td>\n",
              "      <td>0</td>\n",
              "      <td>0</td>\n",
              "      <td>0</td>\n",
              "      <td>Monday</td>\n",
              "    </tr>\n",
              "    <tr>\n",
              "      <th>1</th>\n",
              "      <td>C20345</td>\n",
              "      <td>CITY2</td>\n",
              "      <td>2010-12-19</td>\n",
              "      <td>1</td>\n",
              "      <td>1</td>\n",
              "      <td>1</td>\n",
              "      <td>Friday</td>\n",
              "    </tr>\n",
              "    <tr>\n",
              "      <th>2</th>\n",
              "      <td>C17683</td>\n",
              "      <td>CITY2</td>\n",
              "      <td>2010-10-03</td>\n",
              "      <td>0</td>\n",
              "      <td>0</td>\n",
              "      <td>0</td>\n",
              "      <td>Wednesday</td>\n",
              "    </tr>\n",
              "    <tr>\n",
              "      <th>3</th>\n",
              "      <td>C18647</td>\n",
              "      <td>CITY4</td>\n",
              "      <td>2010-11-27</td>\n",
              "      <td>0</td>\n",
              "      <td>0</td>\n",
              "      <td>0</td>\n",
              "      <td>Monday</td>\n",
              "    </tr>\n",
              "    <tr>\n",
              "      <th>4</th>\n",
              "      <td>C36692</td>\n",
              "      <td>CITY2</td>\n",
              "      <td>2009-12-04</td>\n",
              "      <td>1</td>\n",
              "      <td>1</td>\n",
              "      <td>0</td>\n",
              "      <td>Friday</td>\n",
              "    </tr>\n",
              "    <tr>\n",
              "      <th>...</th>\n",
              "      <td>...</td>\n",
              "      <td>...</td>\n",
              "      <td>...</td>\n",
              "      <td>...</td>\n",
              "      <td>...</td>\n",
              "      <td>...</td>\n",
              "      <td>...</td>\n",
              "    </tr>\n",
              "    <tr>\n",
              "      <th>23815</th>\n",
              "      <td>C23511</td>\n",
              "      <td>CITY2</td>\n",
              "      <td>2018-01-17</td>\n",
              "      <td>1</td>\n",
              "      <td>1</td>\n",
              "      <td>0</td>\n",
              "      <td>Friday</td>\n",
              "    </tr>\n",
              "    <tr>\n",
              "      <th>23816</th>\n",
              "      <td>C12197</td>\n",
              "      <td>CITY3</td>\n",
              "      <td>2018-01-17</td>\n",
              "      <td>1</td>\n",
              "      <td>0</td>\n",
              "      <td>1</td>\n",
              "      <td>Friday</td>\n",
              "    </tr>\n",
              "    <tr>\n",
              "      <th>23817</th>\n",
              "      <td>C40967</td>\n",
              "      <td>CITY3</td>\n",
              "      <td>2018-01-17</td>\n",
              "      <td>1</td>\n",
              "      <td>0</td>\n",
              "      <td>0</td>\n",
              "      <td>Saturday</td>\n",
              "    </tr>\n",
              "    <tr>\n",
              "      <th>23818</th>\n",
              "      <td>C36140</td>\n",
              "      <td>CITY3</td>\n",
              "      <td>2018-01-17</td>\n",
              "      <td>1</td>\n",
              "      <td>1</td>\n",
              "      <td>0</td>\n",
              "      <td>Saturday</td>\n",
              "    </tr>\n",
              "    <tr>\n",
              "      <th>23819</th>\n",
              "      <td>C42003</td>\n",
              "      <td>CITY4</td>\n",
              "      <td>2018-01-17</td>\n",
              "      <td>1</td>\n",
              "      <td>0</td>\n",
              "      <td>0</td>\n",
              "      <td>Friday</td>\n",
              "    </tr>\n",
              "  </tbody>\n",
              "</table>\n",
              "<p>23820 rows × 7 columns</p>\n",
              "</div>\n",
              "      <button class=\"colab-df-convert\" onclick=\"convertToInteractive('df-6e06fd30-430e-4877-b45a-f98ce61aceae')\"\n",
              "              title=\"Convert this dataframe to an interactive table.\"\n",
              "              style=\"display:none;\">\n",
              "        \n",
              "  <svg xmlns=\"http://www.w3.org/2000/svg\" height=\"24px\"viewBox=\"0 0 24 24\"\n",
              "       width=\"24px\">\n",
              "    <path d=\"M0 0h24v24H0V0z\" fill=\"none\"/>\n",
              "    <path d=\"M18.56 5.44l.94 2.06.94-2.06 2.06-.94-2.06-.94-.94-2.06-.94 2.06-2.06.94zm-11 1L8.5 8.5l.94-2.06 2.06-.94-2.06-.94L8.5 2.5l-.94 2.06-2.06.94zm10 10l.94 2.06.94-2.06 2.06-.94-2.06-.94-.94-2.06-.94 2.06-2.06.94z\"/><path d=\"M17.41 7.96l-1.37-1.37c-.4-.4-.92-.59-1.43-.59-.52 0-1.04.2-1.43.59L10.3 9.45l-7.72 7.72c-.78.78-.78 2.05 0 2.83L4 21.41c.39.39.9.59 1.41.59.51 0 1.02-.2 1.41-.59l7.78-7.78 2.81-2.81c.8-.78.8-2.07 0-2.86zM5.41 20L4 18.59l7.72-7.72 1.47 1.35L5.41 20z\"/>\n",
              "  </svg>\n",
              "      </button>\n",
              "      \n",
              "  <style>\n",
              "    .colab-df-container {\n",
              "      display:flex;\n",
              "      flex-wrap:wrap;\n",
              "      gap: 12px;\n",
              "    }\n",
              "\n",
              "    .colab-df-convert {\n",
              "      background-color: #E8F0FE;\n",
              "      border: none;\n",
              "      border-radius: 50%;\n",
              "      cursor: pointer;\n",
              "      display: none;\n",
              "      fill: #1967D2;\n",
              "      height: 32px;\n",
              "      padding: 0 0 0 0;\n",
              "      width: 32px;\n",
              "    }\n",
              "\n",
              "    .colab-df-convert:hover {\n",
              "      background-color: #E2EBFA;\n",
              "      box-shadow: 0px 1px 2px rgba(60, 64, 67, 0.3), 0px 1px 3px 1px rgba(60, 64, 67, 0.15);\n",
              "      fill: #174EA6;\n",
              "    }\n",
              "\n",
              "    [theme=dark] .colab-df-convert {\n",
              "      background-color: #3B4455;\n",
              "      fill: #D2E3FC;\n",
              "    }\n",
              "\n",
              "    [theme=dark] .colab-df-convert:hover {\n",
              "      background-color: #434B5C;\n",
              "      box-shadow: 0px 1px 3px 1px rgba(0, 0, 0, 0.15);\n",
              "      filter: drop-shadow(0px 1px 2px rgba(0, 0, 0, 0.3));\n",
              "      fill: #FFFFFF;\n",
              "    }\n",
              "  </style>\n",
              "\n",
              "      <script>\n",
              "        const buttonEl =\n",
              "          document.querySelector('#df-6e06fd30-430e-4877-b45a-f98ce61aceae button.colab-df-convert');\n",
              "        buttonEl.style.display =\n",
              "          google.colab.kernel.accessAllowed ? 'block' : 'none';\n",
              "\n",
              "        async function convertToInteractive(key) {\n",
              "          const element = document.querySelector('#df-6e06fd30-430e-4877-b45a-f98ce61aceae');\n",
              "          const dataTable =\n",
              "            await google.colab.kernel.invokeFunction('convertToInteractive',\n",
              "                                                     [key], {});\n",
              "          if (!dataTable) return;\n",
              "\n",
              "          const docLinkHtml = 'Like what you see? Visit the ' +\n",
              "            '<a target=\"_blank\" href=https://colab.research.google.com/notebooks/data_table.ipynb>data table notebook</a>'\n",
              "            + ' to learn more about interactive tables.';\n",
              "          element.innerHTML = '';\n",
              "          dataTable['output_type'] = 'display_data';\n",
              "          await google.colab.output.renderOutput(dataTable, element);\n",
              "          const docLink = document.createElement('div');\n",
              "          docLink.innerHTML = docLinkHtml;\n",
              "          element.appendChild(docLink);\n",
              "        }\n",
              "      </script>\n",
              "    </div>\n",
              "  </div>\n",
              "  "
            ]
          },
          "metadata": {},
          "execution_count": 25
        }
      ]
    },
    {
      "cell_type": "code",
      "source": [
        "# Group 'trans_data' by 'CustomerID' and calculate sum and count of 'OrderQuantity'\n",
        "df4_re=trans_data.groupby([\"CustomerID\"]).agg({'OrderQuantity': [\"sum\",\"count\"]}).reset_index()\n",
        "\n",
        "# Flatten multi-level column index to single level using underscores\n",
        "df4_re.columns = ['_'.join(col) for col in df4_re.columns.values]"
      ],
      "metadata": {
        "id": "aJqefHkizt1t"
      },
      "execution_count": null,
      "outputs": []
    },
    {
      "cell_type": "code",
      "source": [
        "# Rename the 'CustomerID_' column to 'CustomerID'\n",
        "df4_re.rename(columns={\"CustomerID_\":\"CustomerID\"},inplace=True)"
      ],
      "metadata": {
        "id": "04cLtXFvztzI"
      },
      "execution_count": null,
      "outputs": []
    },
    {
      "cell_type": "code",
      "source": [
        "# Load the customer data from a xlsx file into a DataFrame\n",
        "cust_data"
      ],
      "metadata": {
        "colab": {
          "base_uri": "https://localhost:8080/",
          "height": 487
        },
        "id": "wWuFbU7Tztwp",
        "outputId": "f4ab5f9a-fb64-4f5e-e49f-d0e8ca3a640e"
      },
      "execution_count": null,
      "outputs": [
        {
          "output_type": "execute_result",
          "data": {
            "text/plain": [
              "      CustomerID   City DateOfRegistration  OnlineCommunication  \\\n",
              "0         C16368  CITY2         2012-09-28                    0   \n",
              "1         C20345  CITY2         2010-12-19                    1   \n",
              "2         C17683  CITY2         2010-10-03                    0   \n",
              "3         C18647  CITY4         2010-11-27                    0   \n",
              "4         C36692  CITY2         2009-12-04                    1   \n",
              "...          ...    ...                ...                  ...   \n",
              "23815     C23511  CITY2         2018-01-17                    1   \n",
              "23816     C12197  CITY3         2018-01-17                    1   \n",
              "23817     C40967  CITY3         2018-01-17                    1   \n",
              "23818     C36140  CITY3         2018-01-17                    1   \n",
              "23819     C42003  CITY4         2018-01-17                    1   \n",
              "\n",
              "       AutomaticRefill  DoorstepDelivery PreferredDeliveryDay  \n",
              "0                    0                 0               Monday  \n",
              "1                    1                 1               Friday  \n",
              "2                    0                 0            Wednesday  \n",
              "3                    0                 0               Monday  \n",
              "4                    1                 0               Friday  \n",
              "...                ...               ...                  ...  \n",
              "23815                1                 0               Friday  \n",
              "23816                0                 1               Friday  \n",
              "23817                0                 0             Saturday  \n",
              "23818                1                 0             Saturday  \n",
              "23819                0                 0               Friday  \n",
              "\n",
              "[23820 rows x 7 columns]"
            ],
            "text/html": [
              "\n",
              "  <div id=\"df-30c2b311-bfa4-4e68-8ad7-257088cac675\">\n",
              "    <div class=\"colab-df-container\">\n",
              "      <div>\n",
              "<style scoped>\n",
              "    .dataframe tbody tr th:only-of-type {\n",
              "        vertical-align: middle;\n",
              "    }\n",
              "\n",
              "    .dataframe tbody tr th {\n",
              "        vertical-align: top;\n",
              "    }\n",
              "\n",
              "    .dataframe thead th {\n",
              "        text-align: right;\n",
              "    }\n",
              "</style>\n",
              "<table border=\"1\" class=\"dataframe\">\n",
              "  <thead>\n",
              "    <tr style=\"text-align: right;\">\n",
              "      <th></th>\n",
              "      <th>CustomerID</th>\n",
              "      <th>City</th>\n",
              "      <th>DateOfRegistration</th>\n",
              "      <th>OnlineCommunication</th>\n",
              "      <th>AutomaticRefill</th>\n",
              "      <th>DoorstepDelivery</th>\n",
              "      <th>PreferredDeliveryDay</th>\n",
              "    </tr>\n",
              "  </thead>\n",
              "  <tbody>\n",
              "    <tr>\n",
              "      <th>0</th>\n",
              "      <td>C16368</td>\n",
              "      <td>CITY2</td>\n",
              "      <td>2012-09-28</td>\n",
              "      <td>0</td>\n",
              "      <td>0</td>\n",
              "      <td>0</td>\n",
              "      <td>Monday</td>\n",
              "    </tr>\n",
              "    <tr>\n",
              "      <th>1</th>\n",
              "      <td>C20345</td>\n",
              "      <td>CITY2</td>\n",
              "      <td>2010-12-19</td>\n",
              "      <td>1</td>\n",
              "      <td>1</td>\n",
              "      <td>1</td>\n",
              "      <td>Friday</td>\n",
              "    </tr>\n",
              "    <tr>\n",
              "      <th>2</th>\n",
              "      <td>C17683</td>\n",
              "      <td>CITY2</td>\n",
              "      <td>2010-10-03</td>\n",
              "      <td>0</td>\n",
              "      <td>0</td>\n",
              "      <td>0</td>\n",
              "      <td>Wednesday</td>\n",
              "    </tr>\n",
              "    <tr>\n",
              "      <th>3</th>\n",
              "      <td>C18647</td>\n",
              "      <td>CITY4</td>\n",
              "      <td>2010-11-27</td>\n",
              "      <td>0</td>\n",
              "      <td>0</td>\n",
              "      <td>0</td>\n",
              "      <td>Monday</td>\n",
              "    </tr>\n",
              "    <tr>\n",
              "      <th>4</th>\n",
              "      <td>C36692</td>\n",
              "      <td>CITY2</td>\n",
              "      <td>2009-12-04</td>\n",
              "      <td>1</td>\n",
              "      <td>1</td>\n",
              "      <td>0</td>\n",
              "      <td>Friday</td>\n",
              "    </tr>\n",
              "    <tr>\n",
              "      <th>...</th>\n",
              "      <td>...</td>\n",
              "      <td>...</td>\n",
              "      <td>...</td>\n",
              "      <td>...</td>\n",
              "      <td>...</td>\n",
              "      <td>...</td>\n",
              "      <td>...</td>\n",
              "    </tr>\n",
              "    <tr>\n",
              "      <th>23815</th>\n",
              "      <td>C23511</td>\n",
              "      <td>CITY2</td>\n",
              "      <td>2018-01-17</td>\n",
              "      <td>1</td>\n",
              "      <td>1</td>\n",
              "      <td>0</td>\n",
              "      <td>Friday</td>\n",
              "    </tr>\n",
              "    <tr>\n",
              "      <th>23816</th>\n",
              "      <td>C12197</td>\n",
              "      <td>CITY3</td>\n",
              "      <td>2018-01-17</td>\n",
              "      <td>1</td>\n",
              "      <td>0</td>\n",
              "      <td>1</td>\n",
              "      <td>Friday</td>\n",
              "    </tr>\n",
              "    <tr>\n",
              "      <th>23817</th>\n",
              "      <td>C40967</td>\n",
              "      <td>CITY3</td>\n",
              "      <td>2018-01-17</td>\n",
              "      <td>1</td>\n",
              "      <td>0</td>\n",
              "      <td>0</td>\n",
              "      <td>Saturday</td>\n",
              "    </tr>\n",
              "    <tr>\n",
              "      <th>23818</th>\n",
              "      <td>C36140</td>\n",
              "      <td>CITY3</td>\n",
              "      <td>2018-01-17</td>\n",
              "      <td>1</td>\n",
              "      <td>1</td>\n",
              "      <td>0</td>\n",
              "      <td>Saturday</td>\n",
              "    </tr>\n",
              "    <tr>\n",
              "      <th>23819</th>\n",
              "      <td>C42003</td>\n",
              "      <td>CITY4</td>\n",
              "      <td>2018-01-17</td>\n",
              "      <td>1</td>\n",
              "      <td>0</td>\n",
              "      <td>0</td>\n",
              "      <td>Friday</td>\n",
              "    </tr>\n",
              "  </tbody>\n",
              "</table>\n",
              "<p>23820 rows × 7 columns</p>\n",
              "</div>\n",
              "      <button class=\"colab-df-convert\" onclick=\"convertToInteractive('df-30c2b311-bfa4-4e68-8ad7-257088cac675')\"\n",
              "              title=\"Convert this dataframe to an interactive table.\"\n",
              "              style=\"display:none;\">\n",
              "        \n",
              "  <svg xmlns=\"http://www.w3.org/2000/svg\" height=\"24px\"viewBox=\"0 0 24 24\"\n",
              "       width=\"24px\">\n",
              "    <path d=\"M0 0h24v24H0V0z\" fill=\"none\"/>\n",
              "    <path d=\"M18.56 5.44l.94 2.06.94-2.06 2.06-.94-2.06-.94-.94-2.06-.94 2.06-2.06.94zm-11 1L8.5 8.5l.94-2.06 2.06-.94-2.06-.94L8.5 2.5l-.94 2.06-2.06.94zm10 10l.94 2.06.94-2.06 2.06-.94-2.06-.94-.94-2.06-.94 2.06-2.06.94z\"/><path d=\"M17.41 7.96l-1.37-1.37c-.4-.4-.92-.59-1.43-.59-.52 0-1.04.2-1.43.59L10.3 9.45l-7.72 7.72c-.78.78-.78 2.05 0 2.83L4 21.41c.39.39.9.59 1.41.59.51 0 1.02-.2 1.41-.59l7.78-7.78 2.81-2.81c.8-.78.8-2.07 0-2.86zM5.41 20L4 18.59l7.72-7.72 1.47 1.35L5.41 20z\"/>\n",
              "  </svg>\n",
              "      </button>\n",
              "      \n",
              "  <style>\n",
              "    .colab-df-container {\n",
              "      display:flex;\n",
              "      flex-wrap:wrap;\n",
              "      gap: 12px;\n",
              "    }\n",
              "\n",
              "    .colab-df-convert {\n",
              "      background-color: #E8F0FE;\n",
              "      border: none;\n",
              "      border-radius: 50%;\n",
              "      cursor: pointer;\n",
              "      display: none;\n",
              "      fill: #1967D2;\n",
              "      height: 32px;\n",
              "      padding: 0 0 0 0;\n",
              "      width: 32px;\n",
              "    }\n",
              "\n",
              "    .colab-df-convert:hover {\n",
              "      background-color: #E2EBFA;\n",
              "      box-shadow: 0px 1px 2px rgba(60, 64, 67, 0.3), 0px 1px 3px 1px rgba(60, 64, 67, 0.15);\n",
              "      fill: #174EA6;\n",
              "    }\n",
              "\n",
              "    [theme=dark] .colab-df-convert {\n",
              "      background-color: #3B4455;\n",
              "      fill: #D2E3FC;\n",
              "    }\n",
              "\n",
              "    [theme=dark] .colab-df-convert:hover {\n",
              "      background-color: #434B5C;\n",
              "      box-shadow: 0px 1px 3px 1px rgba(0, 0, 0, 0.15);\n",
              "      filter: drop-shadow(0px 1px 2px rgba(0, 0, 0, 0.3));\n",
              "      fill: #FFFFFF;\n",
              "    }\n",
              "  </style>\n",
              "\n",
              "      <script>\n",
              "        const buttonEl =\n",
              "          document.querySelector('#df-30c2b311-bfa4-4e68-8ad7-257088cac675 button.colab-df-convert');\n",
              "        buttonEl.style.display =\n",
              "          google.colab.kernel.accessAllowed ? 'block' : 'none';\n",
              "\n",
              "        async function convertToInteractive(key) {\n",
              "          const element = document.querySelector('#df-30c2b311-bfa4-4e68-8ad7-257088cac675');\n",
              "          const dataTable =\n",
              "            await google.colab.kernel.invokeFunction('convertToInteractive',\n",
              "                                                     [key], {});\n",
              "          if (!dataTable) return;\n",
              "\n",
              "          const docLinkHtml = 'Like what you see? Visit the ' +\n",
              "            '<a target=\"_blank\" href=https://colab.research.google.com/notebooks/data_table.ipynb>data table notebook</a>'\n",
              "            + ' to learn more about interactive tables.';\n",
              "          element.innerHTML = '';\n",
              "          dataTable['output_type'] = 'display_data';\n",
              "          await google.colab.output.renderOutput(dataTable, element);\n",
              "          const docLink = document.createElement('div');\n",
              "          docLink.innerHTML = docLinkHtml;\n",
              "          element.appendChild(docLink);\n",
              "        }\n",
              "      </script>\n",
              "    </div>\n",
              "  </div>\n",
              "  "
            ]
          },
          "metadata": {},
          "execution_count": 28
        }
      ]
    },
    {
      "cell_type": "code",
      "source": [
        "# load the transactions_data\n",
        "df4_re"
      ],
      "metadata": {
        "colab": {
          "base_uri": "https://localhost:8080/",
          "height": 423
        },
        "id": "6aQo8y3sAAnY",
        "outputId": "fce65602-be77-41e3-8081-75ca35978809"
      },
      "execution_count": null,
      "outputs": [
        {
          "output_type": "execute_result",
          "data": {
            "text/plain": [
              "      CustomerID  OrderQuantity_sum  OrderQuantity_count\n",
              "0         C12116                115                    3\n",
              "1         C12117                 41                    1\n",
              "2         C12118                 41                    1\n",
              "3         C12119                 52                    1\n",
              "4         C12120                 31                    1\n",
              "...          ...                ...                  ...\n",
              "23815     C42185               1340                   13\n",
              "23816     C42186                 46                    1\n",
              "23817     C42187                 41                    1\n",
              "23818     C42188                 51                    1\n",
              "23819     C42189                180                    2\n",
              "\n",
              "[23820 rows x 3 columns]"
            ],
            "text/html": [
              "\n",
              "  <div id=\"df-a6eec518-92d7-44e5-aa06-f85251f0bbb3\">\n",
              "    <div class=\"colab-df-container\">\n",
              "      <div>\n",
              "<style scoped>\n",
              "    .dataframe tbody tr th:only-of-type {\n",
              "        vertical-align: middle;\n",
              "    }\n",
              "\n",
              "    .dataframe tbody tr th {\n",
              "        vertical-align: top;\n",
              "    }\n",
              "\n",
              "    .dataframe thead th {\n",
              "        text-align: right;\n",
              "    }\n",
              "</style>\n",
              "<table border=\"1\" class=\"dataframe\">\n",
              "  <thead>\n",
              "    <tr style=\"text-align: right;\">\n",
              "      <th></th>\n",
              "      <th>CustomerID</th>\n",
              "      <th>OrderQuantity_sum</th>\n",
              "      <th>OrderQuantity_count</th>\n",
              "    </tr>\n",
              "  </thead>\n",
              "  <tbody>\n",
              "    <tr>\n",
              "      <th>0</th>\n",
              "      <td>C12116</td>\n",
              "      <td>115</td>\n",
              "      <td>3</td>\n",
              "    </tr>\n",
              "    <tr>\n",
              "      <th>1</th>\n",
              "      <td>C12117</td>\n",
              "      <td>41</td>\n",
              "      <td>1</td>\n",
              "    </tr>\n",
              "    <tr>\n",
              "      <th>2</th>\n",
              "      <td>C12118</td>\n",
              "      <td>41</td>\n",
              "      <td>1</td>\n",
              "    </tr>\n",
              "    <tr>\n",
              "      <th>3</th>\n",
              "      <td>C12119</td>\n",
              "      <td>52</td>\n",
              "      <td>1</td>\n",
              "    </tr>\n",
              "    <tr>\n",
              "      <th>4</th>\n",
              "      <td>C12120</td>\n",
              "      <td>31</td>\n",
              "      <td>1</td>\n",
              "    </tr>\n",
              "    <tr>\n",
              "      <th>...</th>\n",
              "      <td>...</td>\n",
              "      <td>...</td>\n",
              "      <td>...</td>\n",
              "    </tr>\n",
              "    <tr>\n",
              "      <th>23815</th>\n",
              "      <td>C42185</td>\n",
              "      <td>1340</td>\n",
              "      <td>13</td>\n",
              "    </tr>\n",
              "    <tr>\n",
              "      <th>23816</th>\n",
              "      <td>C42186</td>\n",
              "      <td>46</td>\n",
              "      <td>1</td>\n",
              "    </tr>\n",
              "    <tr>\n",
              "      <th>23817</th>\n",
              "      <td>C42187</td>\n",
              "      <td>41</td>\n",
              "      <td>1</td>\n",
              "    </tr>\n",
              "    <tr>\n",
              "      <th>23818</th>\n",
              "      <td>C42188</td>\n",
              "      <td>51</td>\n",
              "      <td>1</td>\n",
              "    </tr>\n",
              "    <tr>\n",
              "      <th>23819</th>\n",
              "      <td>C42189</td>\n",
              "      <td>180</td>\n",
              "      <td>2</td>\n",
              "    </tr>\n",
              "  </tbody>\n",
              "</table>\n",
              "<p>23820 rows × 3 columns</p>\n",
              "</div>\n",
              "      <button class=\"colab-df-convert\" onclick=\"convertToInteractive('df-a6eec518-92d7-44e5-aa06-f85251f0bbb3')\"\n",
              "              title=\"Convert this dataframe to an interactive table.\"\n",
              "              style=\"display:none;\">\n",
              "        \n",
              "  <svg xmlns=\"http://www.w3.org/2000/svg\" height=\"24px\"viewBox=\"0 0 24 24\"\n",
              "       width=\"24px\">\n",
              "    <path d=\"M0 0h24v24H0V0z\" fill=\"none\"/>\n",
              "    <path d=\"M18.56 5.44l.94 2.06.94-2.06 2.06-.94-2.06-.94-.94-2.06-.94 2.06-2.06.94zm-11 1L8.5 8.5l.94-2.06 2.06-.94-2.06-.94L8.5 2.5l-.94 2.06-2.06.94zm10 10l.94 2.06.94-2.06 2.06-.94-2.06-.94-.94-2.06-.94 2.06-2.06.94z\"/><path d=\"M17.41 7.96l-1.37-1.37c-.4-.4-.92-.59-1.43-.59-.52 0-1.04.2-1.43.59L10.3 9.45l-7.72 7.72c-.78.78-.78 2.05 0 2.83L4 21.41c.39.39.9.59 1.41.59.51 0 1.02-.2 1.41-.59l7.78-7.78 2.81-2.81c.8-.78.8-2.07 0-2.86zM5.41 20L4 18.59l7.72-7.72 1.47 1.35L5.41 20z\"/>\n",
              "  </svg>\n",
              "      </button>\n",
              "      \n",
              "  <style>\n",
              "    .colab-df-container {\n",
              "      display:flex;\n",
              "      flex-wrap:wrap;\n",
              "      gap: 12px;\n",
              "    }\n",
              "\n",
              "    .colab-df-convert {\n",
              "      background-color: #E8F0FE;\n",
              "      border: none;\n",
              "      border-radius: 50%;\n",
              "      cursor: pointer;\n",
              "      display: none;\n",
              "      fill: #1967D2;\n",
              "      height: 32px;\n",
              "      padding: 0 0 0 0;\n",
              "      width: 32px;\n",
              "    }\n",
              "\n",
              "    .colab-df-convert:hover {\n",
              "      background-color: #E2EBFA;\n",
              "      box-shadow: 0px 1px 2px rgba(60, 64, 67, 0.3), 0px 1px 3px 1px rgba(60, 64, 67, 0.15);\n",
              "      fill: #174EA6;\n",
              "    }\n",
              "\n",
              "    [theme=dark] .colab-df-convert {\n",
              "      background-color: #3B4455;\n",
              "      fill: #D2E3FC;\n",
              "    }\n",
              "\n",
              "    [theme=dark] .colab-df-convert:hover {\n",
              "      background-color: #434B5C;\n",
              "      box-shadow: 0px 1px 3px 1px rgba(0, 0, 0, 0.15);\n",
              "      filter: drop-shadow(0px 1px 2px rgba(0, 0, 0, 0.3));\n",
              "      fill: #FFFFFF;\n",
              "    }\n",
              "  </style>\n",
              "\n",
              "      <script>\n",
              "        const buttonEl =\n",
              "          document.querySelector('#df-a6eec518-92d7-44e5-aa06-f85251f0bbb3 button.colab-df-convert');\n",
              "        buttonEl.style.display =\n",
              "          google.colab.kernel.accessAllowed ? 'block' : 'none';\n",
              "\n",
              "        async function convertToInteractive(key) {\n",
              "          const element = document.querySelector('#df-a6eec518-92d7-44e5-aa06-f85251f0bbb3');\n",
              "          const dataTable =\n",
              "            await google.colab.kernel.invokeFunction('convertToInteractive',\n",
              "                                                     [key], {});\n",
              "          if (!dataTable) return;\n",
              "\n",
              "          const docLinkHtml = 'Like what you see? Visit the ' +\n",
              "            '<a target=\"_blank\" href=https://colab.research.google.com/notebooks/data_table.ipynb>data table notebook</a>'\n",
              "            + ' to learn more about interactive tables.';\n",
              "          element.innerHTML = '';\n",
              "          dataTable['output_type'] = 'display_data';\n",
              "          await google.colab.output.renderOutput(dataTable, element);\n",
              "          const docLink = document.createElement('div');\n",
              "          docLink.innerHTML = docLinkHtml;\n",
              "          element.appendChild(docLink);\n",
              "        }\n",
              "      </script>\n",
              "    </div>\n",
              "  </div>\n",
              "  "
            ]
          },
          "metadata": {},
          "execution_count": 29
        }
      ]
    },
    {
      "cell_type": "markdown",
      "source": [
        "**FINAL MERGING**"
      ],
      "metadata": {
        "id": "l4fKsX1ADhBb"
      }
    },
    {
      "cell_type": "code",
      "source": [
        "# Merges four DataFrames on 'CustomerID' column using a left join for each merge.\n",
        "final_merge=train_data.merge(df2,on=\"CustomerID\",how=\"left\").merge(cust_data,on=\"CustomerID\",how=\"left\").merge(df4_re,\n",
        "                                                                                               on=\"CustomerID\",how=\"left\")"
      ],
      "metadata": {
        "id": "5fOUUMoDAAkB"
      },
      "execution_count": null,
      "outputs": []
    },
    {
      "cell_type": "code",
      "source": [
        "# load the final_merge data\n",
        "final_merge "
      ],
      "metadata": {
        "colab": {
          "base_uri": "https://localhost:8080/",
          "height": 487
        },
        "id": "wl9DzTbnAAhq",
        "outputId": "fb22f9c4-58e0-4755-c6b5-6f8df451f2cd"
      },
      "execution_count": null,
      "outputs": [
        {
          "output_type": "execute_result",
          "data": {
            "text/plain": [
              "      CustomerID RetentionPotential  CustomizedEmail  WelcomeEmail  no_x  \\\n",
              "0         C37869                Low               47             1    44   \n",
              "1         C33841                Low               10             1     4   \n",
              "2         C29464                Low                0             1     0   \n",
              "3         C28158                Low                0             1     0   \n",
              "4         C22785               High                0             1     0   \n",
              "...          ...                ...              ...           ...   ...   \n",
              "23815     C14975                Low               47             1    47   \n",
              "23816     C30392                Low               46             1    40   \n",
              "23817     C41735                Low               37             1    18   \n",
              "23818     C26055                Low               26             1    20   \n",
              "23819     C25058               High                0             1     0   \n",
              "\n",
              "       yes_x  NotApplicable  no_y  yes_y   City DateOfRegistration  \\\n",
              "0          4              1    47      0  CITY4         2011-07-27   \n",
              "1          7              1     8      2  CITY1         2013-11-19   \n",
              "2          1              1     0      0  CITY2         2010-05-24   \n",
              "3          1              1     0      0  CITY1         2017-06-19   \n",
              "4          1              1     0      0  CITY2         2013-12-13   \n",
              "...      ...            ...   ...    ...    ...                ...   \n",
              "23815      1              1    47      0  CITY4         2012-03-28   \n",
              "23816      7              1    46      0  CITY2         2011-01-26   \n",
              "23817     20              1    32      5  CITY3         2013-09-21   \n",
              "23818      7              1    23      3  CITY4         2013-11-23   \n",
              "23819      1              1     0      0  CITY4         2011-11-16   \n",
              "\n",
              "       OnlineCommunication  AutomaticRefill  DoorstepDelivery  \\\n",
              "0                        0                0                 0   \n",
              "1                        1                0                 1   \n",
              "2                        0                0                 0   \n",
              "3                        1                0                 0   \n",
              "4                        1                0                 0   \n",
              "...                    ...              ...               ...   \n",
              "23815                    0                0                 0   \n",
              "23816                    0                0                 0   \n",
              "23817                    1                0                 0   \n",
              "23818                    1                0                 0   \n",
              "23819                    0                0                 0   \n",
              "\n",
              "      PreferredDeliveryDay  OrderQuantity_sum  OrderQuantity_count  \n",
              "0                 Thursday                982                    8  \n",
              "1                 Thursday                 43                    1  \n",
              "2                  Tuesday                 51                    1  \n",
              "3                 Saturday                 60                    1  \n",
              "4                 Thursday                 41                    1  \n",
              "...                    ...                ...                  ...  \n",
              "23815              Tuesday                 57                    5  \n",
              "23816               Monday                662                   12  \n",
              "23817            Wednesday                 29                    1  \n",
              "23818               Friday                 55                    1  \n",
              "23819              Tuesday                 52                    1  \n",
              "\n",
              "[23820 rows x 17 columns]"
            ],
            "text/html": [
              "\n",
              "  <div id=\"df-2c8a87b8-41b8-4795-8aa9-4741a414333d\">\n",
              "    <div class=\"colab-df-container\">\n",
              "      <div>\n",
              "<style scoped>\n",
              "    .dataframe tbody tr th:only-of-type {\n",
              "        vertical-align: middle;\n",
              "    }\n",
              "\n",
              "    .dataframe tbody tr th {\n",
              "        vertical-align: top;\n",
              "    }\n",
              "\n",
              "    .dataframe thead th {\n",
              "        text-align: right;\n",
              "    }\n",
              "</style>\n",
              "<table border=\"1\" class=\"dataframe\">\n",
              "  <thead>\n",
              "    <tr style=\"text-align: right;\">\n",
              "      <th></th>\n",
              "      <th>CustomerID</th>\n",
              "      <th>RetentionPotential</th>\n",
              "      <th>CustomizedEmail</th>\n",
              "      <th>WelcomeEmail</th>\n",
              "      <th>no_x</th>\n",
              "      <th>yes_x</th>\n",
              "      <th>NotApplicable</th>\n",
              "      <th>no_y</th>\n",
              "      <th>yes_y</th>\n",
              "      <th>City</th>\n",
              "      <th>DateOfRegistration</th>\n",
              "      <th>OnlineCommunication</th>\n",
              "      <th>AutomaticRefill</th>\n",
              "      <th>DoorstepDelivery</th>\n",
              "      <th>PreferredDeliveryDay</th>\n",
              "      <th>OrderQuantity_sum</th>\n",
              "      <th>OrderQuantity_count</th>\n",
              "    </tr>\n",
              "  </thead>\n",
              "  <tbody>\n",
              "    <tr>\n",
              "      <th>0</th>\n",
              "      <td>C37869</td>\n",
              "      <td>Low</td>\n",
              "      <td>47</td>\n",
              "      <td>1</td>\n",
              "      <td>44</td>\n",
              "      <td>4</td>\n",
              "      <td>1</td>\n",
              "      <td>47</td>\n",
              "      <td>0</td>\n",
              "      <td>CITY4</td>\n",
              "      <td>2011-07-27</td>\n",
              "      <td>0</td>\n",
              "      <td>0</td>\n",
              "      <td>0</td>\n",
              "      <td>Thursday</td>\n",
              "      <td>982</td>\n",
              "      <td>8</td>\n",
              "    </tr>\n",
              "    <tr>\n",
              "      <th>1</th>\n",
              "      <td>C33841</td>\n",
              "      <td>Low</td>\n",
              "      <td>10</td>\n",
              "      <td>1</td>\n",
              "      <td>4</td>\n",
              "      <td>7</td>\n",
              "      <td>1</td>\n",
              "      <td>8</td>\n",
              "      <td>2</td>\n",
              "      <td>CITY1</td>\n",
              "      <td>2013-11-19</td>\n",
              "      <td>1</td>\n",
              "      <td>0</td>\n",
              "      <td>1</td>\n",
              "      <td>Thursday</td>\n",
              "      <td>43</td>\n",
              "      <td>1</td>\n",
              "    </tr>\n",
              "    <tr>\n",
              "      <th>2</th>\n",
              "      <td>C29464</td>\n",
              "      <td>Low</td>\n",
              "      <td>0</td>\n",
              "      <td>1</td>\n",
              "      <td>0</td>\n",
              "      <td>1</td>\n",
              "      <td>1</td>\n",
              "      <td>0</td>\n",
              "      <td>0</td>\n",
              "      <td>CITY2</td>\n",
              "      <td>2010-05-24</td>\n",
              "      <td>0</td>\n",
              "      <td>0</td>\n",
              "      <td>0</td>\n",
              "      <td>Tuesday</td>\n",
              "      <td>51</td>\n",
              "      <td>1</td>\n",
              "    </tr>\n",
              "    <tr>\n",
              "      <th>3</th>\n",
              "      <td>C28158</td>\n",
              "      <td>Low</td>\n",
              "      <td>0</td>\n",
              "      <td>1</td>\n",
              "      <td>0</td>\n",
              "      <td>1</td>\n",
              "      <td>1</td>\n",
              "      <td>0</td>\n",
              "      <td>0</td>\n",
              "      <td>CITY1</td>\n",
              "      <td>2017-06-19</td>\n",
              "      <td>1</td>\n",
              "      <td>0</td>\n",
              "      <td>0</td>\n",
              "      <td>Saturday</td>\n",
              "      <td>60</td>\n",
              "      <td>1</td>\n",
              "    </tr>\n",
              "    <tr>\n",
              "      <th>4</th>\n",
              "      <td>C22785</td>\n",
              "      <td>High</td>\n",
              "      <td>0</td>\n",
              "      <td>1</td>\n",
              "      <td>0</td>\n",
              "      <td>1</td>\n",
              "      <td>1</td>\n",
              "      <td>0</td>\n",
              "      <td>0</td>\n",
              "      <td>CITY2</td>\n",
              "      <td>2013-12-13</td>\n",
              "      <td>1</td>\n",
              "      <td>0</td>\n",
              "      <td>0</td>\n",
              "      <td>Thursday</td>\n",
              "      <td>41</td>\n",
              "      <td>1</td>\n",
              "    </tr>\n",
              "    <tr>\n",
              "      <th>...</th>\n",
              "      <td>...</td>\n",
              "      <td>...</td>\n",
              "      <td>...</td>\n",
              "      <td>...</td>\n",
              "      <td>...</td>\n",
              "      <td>...</td>\n",
              "      <td>...</td>\n",
              "      <td>...</td>\n",
              "      <td>...</td>\n",
              "      <td>...</td>\n",
              "      <td>...</td>\n",
              "      <td>...</td>\n",
              "      <td>...</td>\n",
              "      <td>...</td>\n",
              "      <td>...</td>\n",
              "      <td>...</td>\n",
              "      <td>...</td>\n",
              "    </tr>\n",
              "    <tr>\n",
              "      <th>23815</th>\n",
              "      <td>C14975</td>\n",
              "      <td>Low</td>\n",
              "      <td>47</td>\n",
              "      <td>1</td>\n",
              "      <td>47</td>\n",
              "      <td>1</td>\n",
              "      <td>1</td>\n",
              "      <td>47</td>\n",
              "      <td>0</td>\n",
              "      <td>CITY4</td>\n",
              "      <td>2012-03-28</td>\n",
              "      <td>0</td>\n",
              "      <td>0</td>\n",
              "      <td>0</td>\n",
              "      <td>Tuesday</td>\n",
              "      <td>57</td>\n",
              "      <td>5</td>\n",
              "    </tr>\n",
              "    <tr>\n",
              "      <th>23816</th>\n",
              "      <td>C30392</td>\n",
              "      <td>Low</td>\n",
              "      <td>46</td>\n",
              "      <td>1</td>\n",
              "      <td>40</td>\n",
              "      <td>7</td>\n",
              "      <td>1</td>\n",
              "      <td>46</td>\n",
              "      <td>0</td>\n",
              "      <td>CITY2</td>\n",
              "      <td>2011-01-26</td>\n",
              "      <td>0</td>\n",
              "      <td>0</td>\n",
              "      <td>0</td>\n",
              "      <td>Monday</td>\n",
              "      <td>662</td>\n",
              "      <td>12</td>\n",
              "    </tr>\n",
              "    <tr>\n",
              "      <th>23817</th>\n",
              "      <td>C41735</td>\n",
              "      <td>Low</td>\n",
              "      <td>37</td>\n",
              "      <td>1</td>\n",
              "      <td>18</td>\n",
              "      <td>20</td>\n",
              "      <td>1</td>\n",
              "      <td>32</td>\n",
              "      <td>5</td>\n",
              "      <td>CITY3</td>\n",
              "      <td>2013-09-21</td>\n",
              "      <td>1</td>\n",
              "      <td>0</td>\n",
              "      <td>0</td>\n",
              "      <td>Wednesday</td>\n",
              "      <td>29</td>\n",
              "      <td>1</td>\n",
              "    </tr>\n",
              "    <tr>\n",
              "      <th>23818</th>\n",
              "      <td>C26055</td>\n",
              "      <td>Low</td>\n",
              "      <td>26</td>\n",
              "      <td>1</td>\n",
              "      <td>20</td>\n",
              "      <td>7</td>\n",
              "      <td>1</td>\n",
              "      <td>23</td>\n",
              "      <td>3</td>\n",
              "      <td>CITY4</td>\n",
              "      <td>2013-11-23</td>\n",
              "      <td>1</td>\n",
              "      <td>0</td>\n",
              "      <td>0</td>\n",
              "      <td>Friday</td>\n",
              "      <td>55</td>\n",
              "      <td>1</td>\n",
              "    </tr>\n",
              "    <tr>\n",
              "      <th>23819</th>\n",
              "      <td>C25058</td>\n",
              "      <td>High</td>\n",
              "      <td>0</td>\n",
              "      <td>1</td>\n",
              "      <td>0</td>\n",
              "      <td>1</td>\n",
              "      <td>1</td>\n",
              "      <td>0</td>\n",
              "      <td>0</td>\n",
              "      <td>CITY4</td>\n",
              "      <td>2011-11-16</td>\n",
              "      <td>0</td>\n",
              "      <td>0</td>\n",
              "      <td>0</td>\n",
              "      <td>Tuesday</td>\n",
              "      <td>52</td>\n",
              "      <td>1</td>\n",
              "    </tr>\n",
              "  </tbody>\n",
              "</table>\n",
              "<p>23820 rows × 17 columns</p>\n",
              "</div>\n",
              "      <button class=\"colab-df-convert\" onclick=\"convertToInteractive('df-2c8a87b8-41b8-4795-8aa9-4741a414333d')\"\n",
              "              title=\"Convert this dataframe to an interactive table.\"\n",
              "              style=\"display:none;\">\n",
              "        \n",
              "  <svg xmlns=\"http://www.w3.org/2000/svg\" height=\"24px\"viewBox=\"0 0 24 24\"\n",
              "       width=\"24px\">\n",
              "    <path d=\"M0 0h24v24H0V0z\" fill=\"none\"/>\n",
              "    <path d=\"M18.56 5.44l.94 2.06.94-2.06 2.06-.94-2.06-.94-.94-2.06-.94 2.06-2.06.94zm-11 1L8.5 8.5l.94-2.06 2.06-.94-2.06-.94L8.5 2.5l-.94 2.06-2.06.94zm10 10l.94 2.06.94-2.06 2.06-.94-2.06-.94-.94-2.06-.94 2.06-2.06.94z\"/><path d=\"M17.41 7.96l-1.37-1.37c-.4-.4-.92-.59-1.43-.59-.52 0-1.04.2-1.43.59L10.3 9.45l-7.72 7.72c-.78.78-.78 2.05 0 2.83L4 21.41c.39.39.9.59 1.41.59.51 0 1.02-.2 1.41-.59l7.78-7.78 2.81-2.81c.8-.78.8-2.07 0-2.86zM5.41 20L4 18.59l7.72-7.72 1.47 1.35L5.41 20z\"/>\n",
              "  </svg>\n",
              "      </button>\n",
              "      \n",
              "  <style>\n",
              "    .colab-df-container {\n",
              "      display:flex;\n",
              "      flex-wrap:wrap;\n",
              "      gap: 12px;\n",
              "    }\n",
              "\n",
              "    .colab-df-convert {\n",
              "      background-color: #E8F0FE;\n",
              "      border: none;\n",
              "      border-radius: 50%;\n",
              "      cursor: pointer;\n",
              "      display: none;\n",
              "      fill: #1967D2;\n",
              "      height: 32px;\n",
              "      padding: 0 0 0 0;\n",
              "      width: 32px;\n",
              "    }\n",
              "\n",
              "    .colab-df-convert:hover {\n",
              "      background-color: #E2EBFA;\n",
              "      box-shadow: 0px 1px 2px rgba(60, 64, 67, 0.3), 0px 1px 3px 1px rgba(60, 64, 67, 0.15);\n",
              "      fill: #174EA6;\n",
              "    }\n",
              "\n",
              "    [theme=dark] .colab-df-convert {\n",
              "      background-color: #3B4455;\n",
              "      fill: #D2E3FC;\n",
              "    }\n",
              "\n",
              "    [theme=dark] .colab-df-convert:hover {\n",
              "      background-color: #434B5C;\n",
              "      box-shadow: 0px 1px 3px 1px rgba(0, 0, 0, 0.15);\n",
              "      filter: drop-shadow(0px 1px 2px rgba(0, 0, 0, 0.3));\n",
              "      fill: #FFFFFF;\n",
              "    }\n",
              "  </style>\n",
              "\n",
              "      <script>\n",
              "        const buttonEl =\n",
              "          document.querySelector('#df-2c8a87b8-41b8-4795-8aa9-4741a414333d button.colab-df-convert');\n",
              "        buttonEl.style.display =\n",
              "          google.colab.kernel.accessAllowed ? 'block' : 'none';\n",
              "\n",
              "        async function convertToInteractive(key) {\n",
              "          const element = document.querySelector('#df-2c8a87b8-41b8-4795-8aa9-4741a414333d');\n",
              "          const dataTable =\n",
              "            await google.colab.kernel.invokeFunction('convertToInteractive',\n",
              "                                                     [key], {});\n",
              "          if (!dataTable) return;\n",
              "\n",
              "          const docLinkHtml = 'Like what you see? Visit the ' +\n",
              "            '<a target=\"_blank\" href=https://colab.research.google.com/notebooks/data_table.ipynb>data table notebook</a>'\n",
              "            + ' to learn more about interactive tables.';\n",
              "          element.innerHTML = '';\n",
              "          dataTable['output_type'] = 'display_data';\n",
              "          await google.colab.output.renderOutput(dataTable, element);\n",
              "          const docLink = document.createElement('div');\n",
              "          docLink.innerHTML = docLinkHtml;\n",
              "          element.appendChild(docLink);\n",
              "        }\n",
              "      </script>\n",
              "    </div>\n",
              "  </div>\n",
              "  "
            ]
          },
          "metadata": {},
          "execution_count": 31
        }
      ]
    },
    {
      "cell_type": "code",
      "source": [
        "# Checking the snapshot of the final_merge dataset\n",
        "final_merge.head()"
      ],
      "metadata": {
        "colab": {
          "base_uri": "https://localhost:8080/",
          "height": 270
        },
        "id": "zWmt30PDAAfh",
        "outputId": "d642a4c2-9670-492a-cd0a-98969b6f1d8a"
      },
      "execution_count": null,
      "outputs": [
        {
          "output_type": "execute_result",
          "data": {
            "text/plain": [
              "  CustomerID RetentionPotential  CustomizedEmail  WelcomeEmail  no_x  yes_x  \\\n",
              "0     C37869                Low               47             1    44      4   \n",
              "1     C33841                Low               10             1     4      7   \n",
              "2     C29464                Low                0             1     0      1   \n",
              "3     C28158                Low                0             1     0      1   \n",
              "4     C22785               High                0             1     0      1   \n",
              "\n",
              "   NotApplicable  no_y  yes_y   City DateOfRegistration  OnlineCommunication  \\\n",
              "0              1    47      0  CITY4         2011-07-27                    0   \n",
              "1              1     8      2  CITY1         2013-11-19                    1   \n",
              "2              1     0      0  CITY2         2010-05-24                    0   \n",
              "3              1     0      0  CITY1         2017-06-19                    1   \n",
              "4              1     0      0  CITY2         2013-12-13                    1   \n",
              "\n",
              "   AutomaticRefill  DoorstepDelivery PreferredDeliveryDay  OrderQuantity_sum  \\\n",
              "0                0                 0             Thursday                982   \n",
              "1                0                 1             Thursday                 43   \n",
              "2                0                 0              Tuesday                 51   \n",
              "3                0                 0             Saturday                 60   \n",
              "4                0                 0             Thursday                 41   \n",
              "\n",
              "   OrderQuantity_count  \n",
              "0                    8  \n",
              "1                    1  \n",
              "2                    1  \n",
              "3                    1  \n",
              "4                    1  "
            ],
            "text/html": [
              "\n",
              "  <div id=\"df-3a520d5c-c8eb-4e08-b051-53972c2cbfb0\">\n",
              "    <div class=\"colab-df-container\">\n",
              "      <div>\n",
              "<style scoped>\n",
              "    .dataframe tbody tr th:only-of-type {\n",
              "        vertical-align: middle;\n",
              "    }\n",
              "\n",
              "    .dataframe tbody tr th {\n",
              "        vertical-align: top;\n",
              "    }\n",
              "\n",
              "    .dataframe thead th {\n",
              "        text-align: right;\n",
              "    }\n",
              "</style>\n",
              "<table border=\"1\" class=\"dataframe\">\n",
              "  <thead>\n",
              "    <tr style=\"text-align: right;\">\n",
              "      <th></th>\n",
              "      <th>CustomerID</th>\n",
              "      <th>RetentionPotential</th>\n",
              "      <th>CustomizedEmail</th>\n",
              "      <th>WelcomeEmail</th>\n",
              "      <th>no_x</th>\n",
              "      <th>yes_x</th>\n",
              "      <th>NotApplicable</th>\n",
              "      <th>no_y</th>\n",
              "      <th>yes_y</th>\n",
              "      <th>City</th>\n",
              "      <th>DateOfRegistration</th>\n",
              "      <th>OnlineCommunication</th>\n",
              "      <th>AutomaticRefill</th>\n",
              "      <th>DoorstepDelivery</th>\n",
              "      <th>PreferredDeliveryDay</th>\n",
              "      <th>OrderQuantity_sum</th>\n",
              "      <th>OrderQuantity_count</th>\n",
              "    </tr>\n",
              "  </thead>\n",
              "  <tbody>\n",
              "    <tr>\n",
              "      <th>0</th>\n",
              "      <td>C37869</td>\n",
              "      <td>Low</td>\n",
              "      <td>47</td>\n",
              "      <td>1</td>\n",
              "      <td>44</td>\n",
              "      <td>4</td>\n",
              "      <td>1</td>\n",
              "      <td>47</td>\n",
              "      <td>0</td>\n",
              "      <td>CITY4</td>\n",
              "      <td>2011-07-27</td>\n",
              "      <td>0</td>\n",
              "      <td>0</td>\n",
              "      <td>0</td>\n",
              "      <td>Thursday</td>\n",
              "      <td>982</td>\n",
              "      <td>8</td>\n",
              "    </tr>\n",
              "    <tr>\n",
              "      <th>1</th>\n",
              "      <td>C33841</td>\n",
              "      <td>Low</td>\n",
              "      <td>10</td>\n",
              "      <td>1</td>\n",
              "      <td>4</td>\n",
              "      <td>7</td>\n",
              "      <td>1</td>\n",
              "      <td>8</td>\n",
              "      <td>2</td>\n",
              "      <td>CITY1</td>\n",
              "      <td>2013-11-19</td>\n",
              "      <td>1</td>\n",
              "      <td>0</td>\n",
              "      <td>1</td>\n",
              "      <td>Thursday</td>\n",
              "      <td>43</td>\n",
              "      <td>1</td>\n",
              "    </tr>\n",
              "    <tr>\n",
              "      <th>2</th>\n",
              "      <td>C29464</td>\n",
              "      <td>Low</td>\n",
              "      <td>0</td>\n",
              "      <td>1</td>\n",
              "      <td>0</td>\n",
              "      <td>1</td>\n",
              "      <td>1</td>\n",
              "      <td>0</td>\n",
              "      <td>0</td>\n",
              "      <td>CITY2</td>\n",
              "      <td>2010-05-24</td>\n",
              "      <td>0</td>\n",
              "      <td>0</td>\n",
              "      <td>0</td>\n",
              "      <td>Tuesday</td>\n",
              "      <td>51</td>\n",
              "      <td>1</td>\n",
              "    </tr>\n",
              "    <tr>\n",
              "      <th>3</th>\n",
              "      <td>C28158</td>\n",
              "      <td>Low</td>\n",
              "      <td>0</td>\n",
              "      <td>1</td>\n",
              "      <td>0</td>\n",
              "      <td>1</td>\n",
              "      <td>1</td>\n",
              "      <td>0</td>\n",
              "      <td>0</td>\n",
              "      <td>CITY1</td>\n",
              "      <td>2017-06-19</td>\n",
              "      <td>1</td>\n",
              "      <td>0</td>\n",
              "      <td>0</td>\n",
              "      <td>Saturday</td>\n",
              "      <td>60</td>\n",
              "      <td>1</td>\n",
              "    </tr>\n",
              "    <tr>\n",
              "      <th>4</th>\n",
              "      <td>C22785</td>\n",
              "      <td>High</td>\n",
              "      <td>0</td>\n",
              "      <td>1</td>\n",
              "      <td>0</td>\n",
              "      <td>1</td>\n",
              "      <td>1</td>\n",
              "      <td>0</td>\n",
              "      <td>0</td>\n",
              "      <td>CITY2</td>\n",
              "      <td>2013-12-13</td>\n",
              "      <td>1</td>\n",
              "      <td>0</td>\n",
              "      <td>0</td>\n",
              "      <td>Thursday</td>\n",
              "      <td>41</td>\n",
              "      <td>1</td>\n",
              "    </tr>\n",
              "  </tbody>\n",
              "</table>\n",
              "</div>\n",
              "      <button class=\"colab-df-convert\" onclick=\"convertToInteractive('df-3a520d5c-c8eb-4e08-b051-53972c2cbfb0')\"\n",
              "              title=\"Convert this dataframe to an interactive table.\"\n",
              "              style=\"display:none;\">\n",
              "        \n",
              "  <svg xmlns=\"http://www.w3.org/2000/svg\" height=\"24px\"viewBox=\"0 0 24 24\"\n",
              "       width=\"24px\">\n",
              "    <path d=\"M0 0h24v24H0V0z\" fill=\"none\"/>\n",
              "    <path d=\"M18.56 5.44l.94 2.06.94-2.06 2.06-.94-2.06-.94-.94-2.06-.94 2.06-2.06.94zm-11 1L8.5 8.5l.94-2.06 2.06-.94-2.06-.94L8.5 2.5l-.94 2.06-2.06.94zm10 10l.94 2.06.94-2.06 2.06-.94-2.06-.94-.94-2.06-.94 2.06-2.06.94z\"/><path d=\"M17.41 7.96l-1.37-1.37c-.4-.4-.92-.59-1.43-.59-.52 0-1.04.2-1.43.59L10.3 9.45l-7.72 7.72c-.78.78-.78 2.05 0 2.83L4 21.41c.39.39.9.59 1.41.59.51 0 1.02-.2 1.41-.59l7.78-7.78 2.81-2.81c.8-.78.8-2.07 0-2.86zM5.41 20L4 18.59l7.72-7.72 1.47 1.35L5.41 20z\"/>\n",
              "  </svg>\n",
              "      </button>\n",
              "      \n",
              "  <style>\n",
              "    .colab-df-container {\n",
              "      display:flex;\n",
              "      flex-wrap:wrap;\n",
              "      gap: 12px;\n",
              "    }\n",
              "\n",
              "    .colab-df-convert {\n",
              "      background-color: #E8F0FE;\n",
              "      border: none;\n",
              "      border-radius: 50%;\n",
              "      cursor: pointer;\n",
              "      display: none;\n",
              "      fill: #1967D2;\n",
              "      height: 32px;\n",
              "      padding: 0 0 0 0;\n",
              "      width: 32px;\n",
              "    }\n",
              "\n",
              "    .colab-df-convert:hover {\n",
              "      background-color: #E2EBFA;\n",
              "      box-shadow: 0px 1px 2px rgba(60, 64, 67, 0.3), 0px 1px 3px 1px rgba(60, 64, 67, 0.15);\n",
              "      fill: #174EA6;\n",
              "    }\n",
              "\n",
              "    [theme=dark] .colab-df-convert {\n",
              "      background-color: #3B4455;\n",
              "      fill: #D2E3FC;\n",
              "    }\n",
              "\n",
              "    [theme=dark] .colab-df-convert:hover {\n",
              "      background-color: #434B5C;\n",
              "      box-shadow: 0px 1px 3px 1px rgba(0, 0, 0, 0.15);\n",
              "      filter: drop-shadow(0px 1px 2px rgba(0, 0, 0, 0.3));\n",
              "      fill: #FFFFFF;\n",
              "    }\n",
              "  </style>\n",
              "\n",
              "      <script>\n",
              "        const buttonEl =\n",
              "          document.querySelector('#df-3a520d5c-c8eb-4e08-b051-53972c2cbfb0 button.colab-df-convert');\n",
              "        buttonEl.style.display =\n",
              "          google.colab.kernel.accessAllowed ? 'block' : 'none';\n",
              "\n",
              "        async function convertToInteractive(key) {\n",
              "          const element = document.querySelector('#df-3a520d5c-c8eb-4e08-b051-53972c2cbfb0');\n",
              "          const dataTable =\n",
              "            await google.colab.kernel.invokeFunction('convertToInteractive',\n",
              "                                                     [key], {});\n",
              "          if (!dataTable) return;\n",
              "\n",
              "          const docLinkHtml = 'Like what you see? Visit the ' +\n",
              "            '<a target=\"_blank\" href=https://colab.research.google.com/notebooks/data_table.ipynb>data table notebook</a>'\n",
              "            + ' to learn more about interactive tables.';\n",
              "          element.innerHTML = '';\n",
              "          dataTable['output_type'] = 'display_data';\n",
              "          await google.colab.output.renderOutput(dataTable, element);\n",
              "          const docLink = document.createElement('div');\n",
              "          docLink.innerHTML = docLinkHtml;\n",
              "          element.appendChild(docLink);\n",
              "        }\n",
              "      </script>\n",
              "    </div>\n",
              "  </div>\n",
              "  "
            ]
          },
          "metadata": {},
          "execution_count": 32
        }
      ]
    },
    {
      "cell_type": "code",
      "source": [
        "# Checking the shape of the final_merge dataset\n",
        "final_merge.shape"
      ],
      "metadata": {
        "colab": {
          "base_uri": "https://localhost:8080/"
        },
        "id": "NW-1sVtRAAZc",
        "outputId": "6d05c9cd-c235-4e91-f40f-98a84936d3af"
      },
      "execution_count": null,
      "outputs": [
        {
          "output_type": "execute_result",
          "data": {
            "text/plain": [
              "(23820, 17)"
            ]
          },
          "metadata": {},
          "execution_count": 33
        }
      ]
    },
    {
      "cell_type": "code",
      "source": [
        "# To understand the datatype for each of the variables\n",
        "final_merge.info()"
      ],
      "metadata": {
        "colab": {
          "base_uri": "https://localhost:8080/"
        },
        "id": "HMW63XcsAAV5",
        "outputId": "f7fbff43-529c-487e-91ac-6f462f22b7c4"
      },
      "execution_count": null,
      "outputs": [
        {
          "output_type": "stream",
          "name": "stdout",
          "text": [
            "<class 'pandas.core.frame.DataFrame'>\n",
            "Int64Index: 23820 entries, 0 to 23819\n",
            "Data columns (total 17 columns):\n",
            " #   Column                Non-Null Count  Dtype         \n",
            "---  ------                --------------  -----         \n",
            " 0   CustomerID            23820 non-null  object        \n",
            " 1   RetentionPotential    23820 non-null  object        \n",
            " 2   CustomizedEmail       23820 non-null  int64         \n",
            " 3   WelcomeEmail          23820 non-null  int64         \n",
            " 4   no_x                  23820 non-null  int64         \n",
            " 5   yes_x                 23820 non-null  int64         \n",
            " 6   NotApplicable         23820 non-null  int64         \n",
            " 7   no_y                  23820 non-null  int64         \n",
            " 8   yes_y                 23820 non-null  int64         \n",
            " 9   City                  23820 non-null  object        \n",
            " 10  DateOfRegistration    23820 non-null  datetime64[ns]\n",
            " 11  OnlineCommunication   23820 non-null  int64         \n",
            " 12  AutomaticRefill       23820 non-null  int64         \n",
            " 13  DoorstepDelivery      23820 non-null  int64         \n",
            " 14  PreferredDeliveryDay  23820 non-null  object        \n",
            " 15  OrderQuantity_sum     23820 non-null  int64         \n",
            " 16  OrderQuantity_count   23820 non-null  int64         \n",
            "dtypes: datetime64[ns](1), int64(12), object(4)\n",
            "memory usage: 3.3+ MB\n"
          ]
        }
      ]
    },
    {
      "cell_type": "code",
      "source": [
        "# Checking the null values in final_merge dataset\n",
        "final_merge.isna().sum()"
      ],
      "metadata": {
        "colab": {
          "base_uri": "https://localhost:8080/"
        },
        "id": "U7ZL0GLuAATp",
        "outputId": "c6a280a2-884c-43ec-84c9-0430bc713935"
      },
      "execution_count": null,
      "outputs": [
        {
          "output_type": "execute_result",
          "data": {
            "text/plain": [
              "CustomerID              0\n",
              "RetentionPotential      0\n",
              "CustomizedEmail         0\n",
              "WelcomeEmail            0\n",
              "no_x                    0\n",
              "yes_x                   0\n",
              "NotApplicable           0\n",
              "no_y                    0\n",
              "yes_y                   0\n",
              "City                    0\n",
              "DateOfRegistration      0\n",
              "OnlineCommunication     0\n",
              "AutomaticRefill         0\n",
              "DoorstepDelivery        0\n",
              "PreferredDeliveryDay    0\n",
              "OrderQuantity_sum       0\n",
              "OrderQuantity_count     0\n",
              "dtype: int64"
            ]
          },
          "metadata": {},
          "execution_count": 35
        }
      ]
    },
    {
      "cell_type": "code",
      "source": [
        "# Checking unique value count analysis in final_merge dataset\n",
        "final_merge.nunique()"
      ],
      "metadata": {
        "colab": {
          "base_uri": "https://localhost:8080/"
        },
        "id": "vDrU-RqOAARU",
        "outputId": "0c91ede5-be34-43dc-bd7d-5d8bbb68e33b"
      },
      "execution_count": null,
      "outputs": [
        {
          "output_type": "execute_result",
          "data": {
            "text/plain": [
              "CustomerID              23820\n",
              "RetentionPotential          3\n",
              "CustomizedEmail            84\n",
              "WelcomeEmail                1\n",
              "no_x                       70\n",
              "yes_x                      61\n",
              "NotApplicable               1\n",
              "no_y                       80\n",
              "yes_y                      30\n",
              "City                        4\n",
              "DateOfRegistration       2673\n",
              "OnlineCommunication         2\n",
              "AutomaticRefill             2\n",
              "DoorstepDelivery            2\n",
              "PreferredDeliveryDay        7\n",
              "OrderQuantity_sum        2206\n",
              "OrderQuantity_count       150\n",
              "dtype: int64"
            ]
          },
          "metadata": {},
          "execution_count": 36
        }
      ]
    },
    {
      "cell_type": "code",
      "source": [
        "# Checking the datatypes in final_merge dataset\n",
        "final_merge.dtypes"
      ],
      "metadata": {
        "colab": {
          "base_uri": "https://localhost:8080/"
        },
        "id": "6wjYGRxPAAPA",
        "outputId": "49b1f118-6d36-479a-8f75-ed525ad1c1e7"
      },
      "execution_count": null,
      "outputs": [
        {
          "output_type": "execute_result",
          "data": {
            "text/plain": [
              "CustomerID                      object\n",
              "RetentionPotential              object\n",
              "CustomizedEmail                  int64\n",
              "WelcomeEmail                     int64\n",
              "no_x                             int64\n",
              "yes_x                            int64\n",
              "NotApplicable                    int64\n",
              "no_y                             int64\n",
              "yes_y                            int64\n",
              "City                            object\n",
              "DateOfRegistration      datetime64[ns]\n",
              "OnlineCommunication              int64\n",
              "AutomaticRefill                  int64\n",
              "DoorstepDelivery                 int64\n",
              "PreferredDeliveryDay            object\n",
              "OrderQuantity_sum                int64\n",
              "OrderQuantity_count              int64\n",
              "dtype: object"
            ]
          },
          "metadata": {},
          "execution_count": 37
        }
      ]
    },
    {
      "cell_type": "code",
      "source": [
        "# Checking the descriptive statistics of final_merge dataset\n",
        "final_merge.describe()"
      ],
      "metadata": {
        "colab": {
          "base_uri": "https://localhost:8080/",
          "height": 364
        },
        "id": "5FFBwBDkJ8-q",
        "outputId": "e9eec4cd-8c43-4374-a014-1cac691cca87"
      },
      "execution_count": null,
      "outputs": [
        {
          "output_type": "execute_result",
          "data": {
            "text/plain": [
              "       CustomizedEmail  WelcomeEmail          no_x         yes_x  \\\n",
              "count     23820.000000       23820.0  23820.000000  23820.000000   \n",
              "mean         20.732662           1.0     15.525273      6.207389   \n",
              "std          20.040546           0.0     17.239732      8.517405   \n",
              "min           0.000000           1.0      0.000000      1.000000   \n",
              "25%           0.000000           1.0      0.000000      1.000000   \n",
              "50%          19.000000           1.0      7.000000      2.000000   \n",
              "75%          40.000000           1.0     32.000000      8.000000   \n",
              "max         291.000000           1.0     91.000000    256.000000   \n",
              "\n",
              "       NotApplicable          no_y         yes_y  OnlineCommunication  \\\n",
              "count        23820.0  23820.000000  23820.000000         23820.000000   \n",
              "mean             1.0     19.563854      1.168808             0.660411   \n",
              "std              0.0     19.168208      2.376062             0.473580   \n",
              "min              1.0      0.000000      0.000000             0.000000   \n",
              "25%              1.0      0.000000      0.000000             0.000000   \n",
              "50%              1.0     17.000000      0.000000             1.000000   \n",
              "75%              1.0     38.000000      1.000000             1.000000   \n",
              "max              1.0    249.000000     42.000000             1.000000   \n",
              "\n",
              "       AutomaticRefill  DoorstepDelivery  OrderQuantity_sum  \\\n",
              "count     23820.000000      23820.000000       23820.000000   \n",
              "mean          0.094710          0.037615         357.622922   \n",
              "std           0.292821          0.190268        1335.649680   \n",
              "min           0.000000          0.000000           0.000000   \n",
              "25%           0.000000          0.000000          41.000000   \n",
              "50%           0.000000          0.000000          65.000000   \n",
              "75%           0.000000          0.000000         169.000000   \n",
              "max           1.000000          1.000000       51429.000000   \n",
              "\n",
              "       OrderQuantity_count  \n",
              "count         23820.000000  \n",
              "mean              4.397775  \n",
              "std              12.142475  \n",
              "min               1.000000  \n",
              "25%               1.000000  \n",
              "50%               1.000000  \n",
              "75%               3.000000  \n",
              "max             257.000000  "
            ],
            "text/html": [
              "\n",
              "  <div id=\"df-5fd3509a-46c4-4bd9-896b-4604cc9de149\">\n",
              "    <div class=\"colab-df-container\">\n",
              "      <div>\n",
              "<style scoped>\n",
              "    .dataframe tbody tr th:only-of-type {\n",
              "        vertical-align: middle;\n",
              "    }\n",
              "\n",
              "    .dataframe tbody tr th {\n",
              "        vertical-align: top;\n",
              "    }\n",
              "\n",
              "    .dataframe thead th {\n",
              "        text-align: right;\n",
              "    }\n",
              "</style>\n",
              "<table border=\"1\" class=\"dataframe\">\n",
              "  <thead>\n",
              "    <tr style=\"text-align: right;\">\n",
              "      <th></th>\n",
              "      <th>CustomizedEmail</th>\n",
              "      <th>WelcomeEmail</th>\n",
              "      <th>no_x</th>\n",
              "      <th>yes_x</th>\n",
              "      <th>NotApplicable</th>\n",
              "      <th>no_y</th>\n",
              "      <th>yes_y</th>\n",
              "      <th>OnlineCommunication</th>\n",
              "      <th>AutomaticRefill</th>\n",
              "      <th>DoorstepDelivery</th>\n",
              "      <th>OrderQuantity_sum</th>\n",
              "      <th>OrderQuantity_count</th>\n",
              "    </tr>\n",
              "  </thead>\n",
              "  <tbody>\n",
              "    <tr>\n",
              "      <th>count</th>\n",
              "      <td>23820.000000</td>\n",
              "      <td>23820.0</td>\n",
              "      <td>23820.000000</td>\n",
              "      <td>23820.000000</td>\n",
              "      <td>23820.0</td>\n",
              "      <td>23820.000000</td>\n",
              "      <td>23820.000000</td>\n",
              "      <td>23820.000000</td>\n",
              "      <td>23820.000000</td>\n",
              "      <td>23820.000000</td>\n",
              "      <td>23820.000000</td>\n",
              "      <td>23820.000000</td>\n",
              "    </tr>\n",
              "    <tr>\n",
              "      <th>mean</th>\n",
              "      <td>20.732662</td>\n",
              "      <td>1.0</td>\n",
              "      <td>15.525273</td>\n",
              "      <td>6.207389</td>\n",
              "      <td>1.0</td>\n",
              "      <td>19.563854</td>\n",
              "      <td>1.168808</td>\n",
              "      <td>0.660411</td>\n",
              "      <td>0.094710</td>\n",
              "      <td>0.037615</td>\n",
              "      <td>357.622922</td>\n",
              "      <td>4.397775</td>\n",
              "    </tr>\n",
              "    <tr>\n",
              "      <th>std</th>\n",
              "      <td>20.040546</td>\n",
              "      <td>0.0</td>\n",
              "      <td>17.239732</td>\n",
              "      <td>8.517405</td>\n",
              "      <td>0.0</td>\n",
              "      <td>19.168208</td>\n",
              "      <td>2.376062</td>\n",
              "      <td>0.473580</td>\n",
              "      <td>0.292821</td>\n",
              "      <td>0.190268</td>\n",
              "      <td>1335.649680</td>\n",
              "      <td>12.142475</td>\n",
              "    </tr>\n",
              "    <tr>\n",
              "      <th>min</th>\n",
              "      <td>0.000000</td>\n",
              "      <td>1.0</td>\n",
              "      <td>0.000000</td>\n",
              "      <td>1.000000</td>\n",
              "      <td>1.0</td>\n",
              "      <td>0.000000</td>\n",
              "      <td>0.000000</td>\n",
              "      <td>0.000000</td>\n",
              "      <td>0.000000</td>\n",
              "      <td>0.000000</td>\n",
              "      <td>0.000000</td>\n",
              "      <td>1.000000</td>\n",
              "    </tr>\n",
              "    <tr>\n",
              "      <th>25%</th>\n",
              "      <td>0.000000</td>\n",
              "      <td>1.0</td>\n",
              "      <td>0.000000</td>\n",
              "      <td>1.000000</td>\n",
              "      <td>1.0</td>\n",
              "      <td>0.000000</td>\n",
              "      <td>0.000000</td>\n",
              "      <td>0.000000</td>\n",
              "      <td>0.000000</td>\n",
              "      <td>0.000000</td>\n",
              "      <td>41.000000</td>\n",
              "      <td>1.000000</td>\n",
              "    </tr>\n",
              "    <tr>\n",
              "      <th>50%</th>\n",
              "      <td>19.000000</td>\n",
              "      <td>1.0</td>\n",
              "      <td>7.000000</td>\n",
              "      <td>2.000000</td>\n",
              "      <td>1.0</td>\n",
              "      <td>17.000000</td>\n",
              "      <td>0.000000</td>\n",
              "      <td>1.000000</td>\n",
              "      <td>0.000000</td>\n",
              "      <td>0.000000</td>\n",
              "      <td>65.000000</td>\n",
              "      <td>1.000000</td>\n",
              "    </tr>\n",
              "    <tr>\n",
              "      <th>75%</th>\n",
              "      <td>40.000000</td>\n",
              "      <td>1.0</td>\n",
              "      <td>32.000000</td>\n",
              "      <td>8.000000</td>\n",
              "      <td>1.0</td>\n",
              "      <td>38.000000</td>\n",
              "      <td>1.000000</td>\n",
              "      <td>1.000000</td>\n",
              "      <td>0.000000</td>\n",
              "      <td>0.000000</td>\n",
              "      <td>169.000000</td>\n",
              "      <td>3.000000</td>\n",
              "    </tr>\n",
              "    <tr>\n",
              "      <th>max</th>\n",
              "      <td>291.000000</td>\n",
              "      <td>1.0</td>\n",
              "      <td>91.000000</td>\n",
              "      <td>256.000000</td>\n",
              "      <td>1.0</td>\n",
              "      <td>249.000000</td>\n",
              "      <td>42.000000</td>\n",
              "      <td>1.000000</td>\n",
              "      <td>1.000000</td>\n",
              "      <td>1.000000</td>\n",
              "      <td>51429.000000</td>\n",
              "      <td>257.000000</td>\n",
              "    </tr>\n",
              "  </tbody>\n",
              "</table>\n",
              "</div>\n",
              "      <button class=\"colab-df-convert\" onclick=\"convertToInteractive('df-5fd3509a-46c4-4bd9-896b-4604cc9de149')\"\n",
              "              title=\"Convert this dataframe to an interactive table.\"\n",
              "              style=\"display:none;\">\n",
              "        \n",
              "  <svg xmlns=\"http://www.w3.org/2000/svg\" height=\"24px\"viewBox=\"0 0 24 24\"\n",
              "       width=\"24px\">\n",
              "    <path d=\"M0 0h24v24H0V0z\" fill=\"none\"/>\n",
              "    <path d=\"M18.56 5.44l.94 2.06.94-2.06 2.06-.94-2.06-.94-.94-2.06-.94 2.06-2.06.94zm-11 1L8.5 8.5l.94-2.06 2.06-.94-2.06-.94L8.5 2.5l-.94 2.06-2.06.94zm10 10l.94 2.06.94-2.06 2.06-.94-2.06-.94-.94-2.06-.94 2.06-2.06.94z\"/><path d=\"M17.41 7.96l-1.37-1.37c-.4-.4-.92-.59-1.43-.59-.52 0-1.04.2-1.43.59L10.3 9.45l-7.72 7.72c-.78.78-.78 2.05 0 2.83L4 21.41c.39.39.9.59 1.41.59.51 0 1.02-.2 1.41-.59l7.78-7.78 2.81-2.81c.8-.78.8-2.07 0-2.86zM5.41 20L4 18.59l7.72-7.72 1.47 1.35L5.41 20z\"/>\n",
              "  </svg>\n",
              "      </button>\n",
              "      \n",
              "  <style>\n",
              "    .colab-df-container {\n",
              "      display:flex;\n",
              "      flex-wrap:wrap;\n",
              "      gap: 12px;\n",
              "    }\n",
              "\n",
              "    .colab-df-convert {\n",
              "      background-color: #E8F0FE;\n",
              "      border: none;\n",
              "      border-radius: 50%;\n",
              "      cursor: pointer;\n",
              "      display: none;\n",
              "      fill: #1967D2;\n",
              "      height: 32px;\n",
              "      padding: 0 0 0 0;\n",
              "      width: 32px;\n",
              "    }\n",
              "\n",
              "    .colab-df-convert:hover {\n",
              "      background-color: #E2EBFA;\n",
              "      box-shadow: 0px 1px 2px rgba(60, 64, 67, 0.3), 0px 1px 3px 1px rgba(60, 64, 67, 0.15);\n",
              "      fill: #174EA6;\n",
              "    }\n",
              "\n",
              "    [theme=dark] .colab-df-convert {\n",
              "      background-color: #3B4455;\n",
              "      fill: #D2E3FC;\n",
              "    }\n",
              "\n",
              "    [theme=dark] .colab-df-convert:hover {\n",
              "      background-color: #434B5C;\n",
              "      box-shadow: 0px 1px 3px 1px rgba(0, 0, 0, 0.15);\n",
              "      filter: drop-shadow(0px 1px 2px rgba(0, 0, 0, 0.3));\n",
              "      fill: #FFFFFF;\n",
              "    }\n",
              "  </style>\n",
              "\n",
              "      <script>\n",
              "        const buttonEl =\n",
              "          document.querySelector('#df-5fd3509a-46c4-4bd9-896b-4604cc9de149 button.colab-df-convert');\n",
              "        buttonEl.style.display =\n",
              "          google.colab.kernel.accessAllowed ? 'block' : 'none';\n",
              "\n",
              "        async function convertToInteractive(key) {\n",
              "          const element = document.querySelector('#df-5fd3509a-46c4-4bd9-896b-4604cc9de149');\n",
              "          const dataTable =\n",
              "            await google.colab.kernel.invokeFunction('convertToInteractive',\n",
              "                                                     [key], {});\n",
              "          if (!dataTable) return;\n",
              "\n",
              "          const docLinkHtml = 'Like what you see? Visit the ' +\n",
              "            '<a target=\"_blank\" href=https://colab.research.google.com/notebooks/data_table.ipynb>data table notebook</a>'\n",
              "            + ' to learn more about interactive tables.';\n",
              "          element.innerHTML = '';\n",
              "          dataTable['output_type'] = 'display_data';\n",
              "          await google.colab.output.renderOutput(dataTable, element);\n",
              "          const docLink = document.createElement('div');\n",
              "          docLink.innerHTML = docLinkHtml;\n",
              "          element.appendChild(docLink);\n",
              "        }\n",
              "      </script>\n",
              "    </div>\n",
              "  </div>\n",
              "  "
            ]
          },
          "metadata": {},
          "execution_count": 38
        }
      ]
    },
    {
      "cell_type": "markdown",
      "source": [
        "**EXPLORATORY DATA ANALYSIS**"
      ],
      "metadata": {
        "id": "-R5sQsZlXfdM"
      }
    },
    {
      "cell_type": "code",
      "source": [
        "# Group the final merged DataFrame by 'PreferredDeliveryDay' and 'DoorstepDelivery', and calculate the size of each group\n",
        "delivery_by_day = final_merge.groupby(['PreferredDeliveryDay', 'DoorstepDelivery']).size().unstack(fill_value=0)\n",
        "\n",
        "# Plot the data as a stacked bar chart\n",
        "delivery_by_day.plot(kind='bar', stacked=True)\n",
        "\n",
        "# Set the x-axis label to 'Preferred Delivery Day'\n",
        "plt.xlabel('Preferred Delivery Day')\n",
        "\n",
        "# Set the y-axis label to 'Number of Registrations'\n",
        "plt.ylabel('Number of Registrations')\n",
        "\n",
        "# Display the plot\n",
        "plt.show()\n",
        "\n",
        "print('---- INSIGHTS----')\n",
        "print('The graph shows the distribution of registrations by Preferred Delivery Day and Doorstep Delivery. Each bar represents the total number of registrations for a particular Preferred Delivery Day, and the stacked segments within each bar show how many registrations selected Doorstep Delivery (in orange) and how many did not (in blue)')"
      ],
      "metadata": {
        "colab": {
          "base_uri": "https://localhost:8080/",
          "height": 572
        },
        "id": "LthCRZ1_M2y9",
        "outputId": "eebaf91c-799d-49f1-8b68-5afa4cb98983"
      },
      "execution_count": null,
      "outputs": [
        {
          "output_type": "display_data",
          "data": {
            "text/plain": [
              "<Figure size 640x480 with 1 Axes>"
            ],
            "image/png": "[encoded data removed]"
          },
          "metadata": {}
        },
        {
          "output_type": "stream",
          "name": "stdout",
          "text": [
            "---- INSIGHTS----\n",
            "The graph shows the distribution of registrations by Preferred Delivery Day and Doorstep Delivery. Each bar represents the total number of registrations for a particular Preferred Delivery Day, and the stacked segments within each bar show how many registrations selected Doorstep Delivery (in orange) and how many did not (in blue)\n"
          ]
        }
      ]
    },
    {
      "cell_type": "code",
      "source": [
        "# Create a scatter plot of 'OrderQuantity_count' versus 'RetentionPotential'\n",
        "plt.scatter(final_merge['OrderQuantity_count'], final_merge['RetentionPotential'], s=50)\n",
        "\n",
        "# Set the x-axis and y-axis labels\n",
        "plt.xlabel('OrderQuantity_count')\n",
        "plt.ylabel('Retention Potential')\n",
        "\n",
        "# Display the plot\n",
        "plt.show()\n",
        "\n",
        "\n",
        "print('---- INSIGHTS----')\n",
        "print(' Each point on the plot represents a customer, and the x-coordinate of the point represents the total number of orders placed by the customer, while the y-coordinate represents the customers likelihood of remaining loyal to the company.')"
      ],
      "metadata": {
        "colab": {
          "base_uri": "https://localhost:8080/",
          "height": 506
        },
        "id": "ZZaZFDlpEQ6a",
        "outputId": "56e7199c-e74e-4521-a30a-16d279e8b1a7"
      },
      "execution_count": null,
      "outputs": [
        {
          "output_type": "display_data",
          "data": {
            "text/plain": [
              "<Figure size 640x480 with 1 Axes>"
            ],
            "image/png": "[encoded data removed]"
          },
          "metadata": {}
        },
        {
          "output_type": "stream",
          "name": "stdout",
          "text": [
            "---- INSIGHTS----\n",
            " Each point on the plot represents a customer, and the x-coordinate of the point represents the total number of orders placed by the customer, while the y-coordinate represents the customers likelihood of remaining loyal to the company.\n"
          ]
        }
      ]
    },
    {
      "cell_type": "code",
      "source": [
        "# Create a histogram of 'DateOfRegistration' column\n",
        "plt.hist(final_merge['DateOfRegistration'], bins=30)\n",
        "\n",
        "# Set the x-axis and y-axis labels\n",
        "plt.xlabel('Registration Date')\n",
        "plt.ylabel('Count')\n",
        "\n",
        "# Display the plot\n",
        "plt.show()\n",
        "\n",
        "print('---- INSIGHTS----')\n",
        "print('The height of each bar represents the number of registrations that occurred during that time interval.')"
      ],
      "metadata": {
        "colab": {
          "base_uri": "https://localhost:8080/",
          "height": 505
        },
        "id": "Wpa4wFhSEwU2",
        "outputId": "77dde594-b791-47ae-e243-c68275d2a728"
      },
      "execution_count": null,
      "outputs": [
        {
          "output_type": "display_data",
          "data": {
            "text/plain": [
              "<Figure size 640x480 with 1 Axes>"
            ],
            "image/png": "[encoded data removed]"
          },
          "metadata": {}
        },
        {
          "output_type": "stream",
          "name": "stdout",
          "text": [
            "---- INSIGHTS----\n",
            "The height of each bar represents the number of registrations that occurred during that time interval.\n"
          ]
        }
      ]
    },
    {
      "cell_type": "code",
      "source": [
        "# Group the data by 'City' and 'DoorstepDelivery', and create a stacked bar plot\n",
        "city_delivery = final_merge.groupby(['City', 'DoorstepDelivery']).size().unstack(fill_value=0)\n",
        "city_delivery.plot(kind='bar', stacked=True, figsize=(4, 5))\n",
        "\n",
        "# Set the plot title and x-axis, y-axis labels\n",
        "plt.title('Stacked Bar Plot of Doorstep Delivery by City')\n",
        "plt.xlabel('City')\n",
        "plt.ylabel('Count')\n",
        "\n",
        "# Show the plot\n",
        "plt.show()\n",
        "\n",
        "print('---- INSIGHTS----')\n",
        "print('The resulting plot shows the counts of customers who opted for doorstep delivery and those who did not, for each city.')"
      ],
      "metadata": {
        "colab": {
          "base_uri": "https://localhost:8080/",
          "height": 569
        },
        "id": "r3oUL7McTO6_",
        "outputId": "519a7c7e-42d7-4a6c-858c-9e000c7c41d3"
      },
      "execution_count": null,
      "outputs": [
        {
          "output_type": "display_data",
          "data": {
            "text/plain": [
              "<Figure size 400x500 with 1 Axes>"
            ],
            "image/png": "[encoded data removed]"
          },
          "metadata": {}
        },
        {
          "output_type": "stream",
          "name": "stdout",
          "text": [
            "---- INSIGHTS----\n",
            "The resulting plot shows the counts of customers who opted for doorstep delivery and those who did not, for each city.\n"
          ]
        }
      ]
    },
    {
      "cell_type": "code",
      "source": [
        "# Set seaborn style to whitegrid\n",
        "sns.set_style('whitegrid')\n",
        "plt.figure(figsize=(4, 4))\n",
        "\n",
        "# Create a bar plot of 'OrderQuantity_sum' vs 'OnlineCommunication'\n",
        "sns.barplot(x='OnlineCommunication', y='OrderQuantity_sum', data=final_merge)\n",
        "plt.title('Order Quantity by Online Communication')\n",
        "plt.show()\n",
        "\n",
        "print('---- INSIGHTS----')\n",
        "print('The resulting plot shows the counts of customers who opted for doorstep delivery and those who did not, for each city.')"
      ],
      "metadata": {
        "colab": {
          "base_uri": "https://localhost:8080/",
          "height": 466
        },
        "id": "2Gf_xRzzLM3g",
        "outputId": "15b50da2-3a20-417b-9726-786c1e9dbc5f"
      },
      "execution_count": null,
      "outputs": [
        {
          "output_type": "display_data",
          "data": {
            "text/plain": [
              "<Figure size 400x400 with 1 Axes>"
            ],
            "image/png": "[encoded data removed]"
          },
          "metadata": {}
        },
        {
          "output_type": "stream",
          "name": "stdout",
          "text": [
            "---- INSIGHTS----\n",
            "The resulting plot shows the counts of customers who opted for doorstep delivery and those who did not, for each city.\n"
          ]
        }
      ]
    },
    {
      "cell_type": "code",
      "source": [
        "# Plots a countplot of the 'PreferredDeliveryDay' column from the 'final_merge' dataframe\n",
        "sns.countplot(x='PreferredDeliveryDay', data=final_merge)\n",
        "\n",
        "# Sets the title of the plot to 'Preferred Delivery Day'\n",
        "plt.title('Preferred Delivery Day')\n",
        "\n",
        "# Display the plot\n",
        "plt.show()\n",
        "\n",
        "print('---- INSIGHTS----')\n",
        "print('The number of customers who selected each day of the week as their preferred delivery day. From the plot, you can see that the majority of customers preferred their deliveries to be made on Monday and Tuesday.')"
      ],
      "metadata": {
        "id": "MnWn0bR1odri",
        "colab": {
          "base_uri": "https://localhost:8080/",
          "height": 528
        },
        "outputId": "7d47a188-2120-4116-a842-c2d4d4c736c0"
      },
      "execution_count": null,
      "outputs": [
        {
          "output_type": "display_data",
          "data": {
            "text/plain": [
              "<Figure size 640x480 with 1 Axes>"
            ],
            "image/png": "[encoded data removed]"
          },
          "metadata": {}
        },
        {
          "output_type": "stream",
          "name": "stdout",
          "text": [
            "---- INSIGHTS----\n",
            "The number of customers who selected each day of the week as their preferred delivery day. From the plot, you can see that the majority of customers preferred their deliveries to be made on Monday and Tuesday.\n"
          ]
        }
      ]
    },
    {
      "cell_type": "code",
      "source": [
        "# create a horizontal bar plot of the \"City\" column\n",
        "final_merge['City'].value_counts().plot(kind='barh')\n",
        "\n",
        "# Sets the title of the plot to 'Count of City'\n",
        "plt.title('Count of City')\n",
        "\n",
        "# Display the plot\n",
        "plt.show()\n",
        "\n",
        "print('---- INSIGHTS----')\n",
        "print('So, this horizontal bar plot shows the number of customers from each city. The longer the bar for a city, the more customers are from that city.')"
      ],
      "metadata": {
        "colab": {
          "base_uri": "https://localhost:8080/",
          "height": 508
        },
        "id": "VJcXtnKj6iC6",
        "outputId": "085142da-3b63-4aa3-e181-a408f89c0021"
      },
      "execution_count": null,
      "outputs": [
        {
          "output_type": "display_data",
          "data": {
            "text/plain": [
              "<Figure size 640x480 with 1 Axes>"
            ],
            "image/png": "[encoded data removed]"
          },
          "metadata": {}
        },
        {
          "output_type": "stream",
          "name": "stdout",
          "text": [
            "---- INSIGHTS----\n",
            "So, this horizontal bar plot shows the number of customers from each city. The longer the bar for a city, the more customers are from that city.\n"
          ]
        }
      ]
    },
    {
      "cell_type": "code",
      "source": [
        "# Select the columns of interest\n",
        "cols_of_interest = ['OrderQuantity_sum', 'OrderQuantity_count', 'OnlineCommunication', 'AutomaticRefill', 'DoorstepDelivery']\n",
        "\n",
        "# Create a subset of the dataframe with only the selected columns\n",
        "subset = final_merge[cols_of_interest]\n",
        "\n",
        "# Calculate the correlation matrix\n",
        "corr_matrix = subset.corr()\n",
        "\n",
        "# Create a heatmap of the correlation matrix\n",
        "sns.heatmap(corr_matrix, annot=True, cmap='coolwarm')\n",
        "plt.title('Correlation Heatmap')\n",
        "plt.show()\n",
        "\n",
        "\n",
        "print('---- INSIGHTS----')\n",
        "print('In the heatmap, the color scale is used to represent the correlation values. Darker colors represent stronger positive correlations, while lighter colors represent weaker correlations or negative correlations')\n"
      ],
      "metadata": {
        "colab": {
          "base_uri": "https://localhost:8080/",
          "height": 648
        },
        "id": "7drHto3gGDAj",
        "outputId": "be069637-5a41-4d5c-ed81-7365bcf11777"
      },
      "execution_count": null,
      "outputs": [
        {
          "output_type": "display_data",
          "data": {
            "text/plain": [
              "<Figure size 640x480 with 2 Axes>"
            ],
            "image/png": "[encoded data removed]"
          },
          "metadata": {}
        },
        {
          "output_type": "stream",
          "name": "stdout",
          "text": [
            "---- INSIGHTS----\n",
            "In the heatmap, the color scale is used to represent the correlation values. Darker colors represent stronger positive correlations, while lighter colors represent weaker correlations or negative correlations\n"
          ]
        }
      ]
    },
    {
      "cell_type": "code",
      "source": [
        "# Calculate the counts for each category in the 'RetentionPotential' column\n",
        "counts = final_merge['RetentionPotential'].value_counts()\n",
        "\n",
        "# Create a pie chart with the counts\n",
        "plt.figure(figsize=(5,5))\n",
        "plt.colors=['steelblue','purple','lightgreen']\n",
        "plt.pie(counts, labels=counts.index, autopct='%1.1f%%', colors = plt.colors)\n",
        "plt.title('Retention Potential Distribution')\n",
        "plt.show()\n"
      ],
      "metadata": {
        "colab": {
          "base_uri": "https://localhost:8080/",
          "height": 444
        },
        "id": "AJW6dcb4OQYR",
        "outputId": "2ff0e6ea-e2b0-4d5c-bafa-099f41b00fb1"
      },
      "execution_count": null,
      "outputs": [
        {
          "output_type": "display_data",
          "data": {
            "text/plain": [
              "<Figure size 500x500 with 1 Axes>"
            ],
            "image/png": "[encoded data removed]"
          },
          "metadata": {}
        }
      ]
    }
  ]
}